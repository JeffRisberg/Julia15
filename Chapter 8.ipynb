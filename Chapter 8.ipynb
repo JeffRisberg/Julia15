{
 "cells": [
  {
   "cell_type": "code",
   "execution_count": 1,
   "metadata": {},
   "outputs": [],
   "source": [
    "using CSV, DataFrames"
   ]
  },
  {
   "cell_type": "code",
   "execution_count": 2,
   "metadata": {
    "scrolled": false
   },
   "outputs": [
    {
     "data": {
      "text/html": [
       "<table class=\"data-frame\"><thead><tr><th></th><th>Location Id</th><th>Business Account Number</th><th>Ownership Name</th><th>DBA Name</th></tr><tr><th></th><th>String</th><th>Int64</th><th>String</th><th>String</th></tr></thead><tbody><p>222,871 rows × 26 columns (omitted printing of 22 columns)</p><tr><th>1</th><td>0474285-05-001</td><td>474285</td><td>Pressed Juicery Inc</td><td>Pressed Juicery</td></tr><tr><th>2</th><td>0474285-06-001</td><td>474285</td><td>Pressed Juicery Inc</td><td>Pressed Juicery</td></tr><tr><th>3</th><td>1045798-12-151</td><td>1021444</td><td>Benhammou Ahmida</td><td>Zaalouk Market &amp; Deli Grocery</td></tr><tr><th>4</th><td>1170655-12-171</td><td>1080758</td><td>San Francisco Security Services Llc</td><td>San Francisco Security Services Llc</td></tr><tr><th>5</th><td>1172862-12-171</td><td>1081156</td><td>Teresa. Spalding</td><td>Teresa Spalding</td></tr><tr><th>6</th><td>1172877-12-171</td><td>1081158</td><td>Three R Properties</td><td>Three R Properties</td></tr><tr><th>7</th><td>1172879-12-171</td><td>1081159</td><td>Rhi-Mosser 275 Turk, Lp</td><td>Rhi-Mosser 275 Turk, Lp</td></tr><tr><th>8</th><td>1173595-12-171</td><td>1081185</td><td>Weibin Wu</td><td>Weibin Wu</td></tr><tr><th>9</th><td>1173614-12-171</td><td>1081187</td><td>Ockchain Inc</td><td>Ockchain Inc</td></tr><tr><th>10</th><td>1173616-12-171</td><td>1081188</td><td>Ariel Sultan</td><td>San Francisco</td></tr><tr><th>11</th><td>1173655-12-171</td><td>1081198</td><td>Reyes Coca Cola Bottling Llc</td><td>Reyes Coca Cola Bottling Llcd</td></tr><tr><th>12</th><td>0313066-03-999</td><td>313066</td><td>Johnson Sarah H</td><td>Sarah Johnson</td></tr><tr><th>13</th><td>0341035-02-001</td><td>341035</td><td>Van Der Zee Peter &amp; Kathryn</td><td>1-11 Lilac St Apts</td></tr><tr><th>14</th><td>1173728-12-171</td><td>1081203</td><td>Christopher Holmes</td><td>Christopher Holmes</td></tr><tr><th>15</th><td>1173732-12-171</td><td>1081205</td><td>Alan Bray</td><td>Alan Bray Construction</td></tr><tr><th>16</th><td>1173734-12-171</td><td>1081206</td><td>Test 12/28/2017</td><td>Test 12/28/2017 Location 1 / Parking</td></tr><tr><th>17</th><td>1173736-12-171</td><td>1081207</td><td>Claire Ogden</td><td>1852 Church Street Rental</td></tr><tr><th>18</th><td>1173738-12-171</td><td>1081208</td><td>Nightlight Group, Inc</td><td>Nightlight Group, Inc</td></tr><tr><th>19</th><td>1173622-12-171</td><td>1081191</td><td>Jeff Alvarez</td><td>Lyft</td></tr><tr><th>20</th><td>1173653-12-171</td><td>1081197</td><td>Hakkinen Inc</td><td>Known Space</td></tr><tr><th>21</th><td>1173750-12-171</td><td>1081215</td><td>Career Step Llc</td><td>Career Step Llc</td></tr><tr><th>22</th><td>1173752-12-171</td><td>1081216</td><td>Yo-Kai Express Inc.</td><td>Yo-Kai Express Inc.</td></tr><tr><th>23</th><td>1173754-12-171</td><td>1081217</td><td>Rprw, Inc</td><td>R &amp; R Construction Services</td></tr><tr><th>24</th><td>1173756-12-171</td><td>1081218</td><td>Jms Wired,llc</td><td>Careers Wired</td></tr><tr><th>25</th><td>1173757-12-171</td><td>1081218</td><td>Jms Wired,llc</td><td>Jms Wired</td></tr><tr><th>26</th><td>1173759-12-171</td><td>1081219</td><td>Ableen Tai</td><td>Ableen Tai</td></tr><tr><th>27</th><td>1173761-12-171</td><td>1081220</td><td>William G. Samios</td><td>William G. Samios</td></tr><tr><th>28</th><td>1173763-12-171</td><td>1081221</td><td>44 Montgomery Street Tenant Llc</td><td>Wework</td></tr><tr><th>29</th><td>1173780-12-171</td><td>1081229</td><td>Sherese Elsey</td><td>Sherese Elsey Photography</td></tr><tr><th>30</th><td>1173782-12-171</td><td>1081233</td><td>Cyrene Feliciano</td><td>Cyrene Feliciano</td></tr><tr><th>&vellip;</th><td>&vellip;</td><td>&vellip;</td><td>&vellip;</td><td>&vellip;</td></tr></tbody></table>"
      ],
      "text/latex": [
       "\\begin{tabular}{r|ccccc}\n",
       "\t& Location Id & Business Account Number & Ownership Name & DBA Name & \\\\\n",
       "\t\\hline\n",
       "\t& String & Int64 & String & String & \\\\\n",
       "\t\\hline\n",
       "\t1 & 0474285-05-001 & 474285 & Pressed Juicery Inc & Pressed Juicery & $\\dots$ \\\\\n",
       "\t2 & 0474285-06-001 & 474285 & Pressed Juicery Inc & Pressed Juicery & $\\dots$ \\\\\n",
       "\t3 & 1045798-12-151 & 1021444 & Benhammou Ahmida & Zaalouk Market \\& Deli Grocery & $\\dots$ \\\\\n",
       "\t4 & 1170655-12-171 & 1080758 & San Francisco Security Services Llc & San Francisco Security Services Llc & $\\dots$ \\\\\n",
       "\t5 & 1172862-12-171 & 1081156 & Teresa. Spalding & Teresa Spalding & $\\dots$ \\\\\n",
       "\t6 & 1172877-12-171 & 1081158 & Three R Properties & Three R Properties & $\\dots$ \\\\\n",
       "\t7 & 1172879-12-171 & 1081159 & Rhi-Mosser 275 Turk, Lp & Rhi-Mosser 275 Turk, Lp & $\\dots$ \\\\\n",
       "\t8 & 1173595-12-171 & 1081185 & Weibin Wu & Weibin Wu & $\\dots$ \\\\\n",
       "\t9 & 1173614-12-171 & 1081187 & Ockchain Inc & Ockchain Inc & $\\dots$ \\\\\n",
       "\t10 & 1173616-12-171 & 1081188 & Ariel Sultan & San Francisco & $\\dots$ \\\\\n",
       "\t11 & 1173655-12-171 & 1081198 & Reyes Coca Cola Bottling Llc & Reyes Coca Cola Bottling Llcd & $\\dots$ \\\\\n",
       "\t12 & 0313066-03-999 & 313066 & Johnson Sarah H & Sarah Johnson & $\\dots$ \\\\\n",
       "\t13 & 0341035-02-001 & 341035 & Van Der Zee Peter \\& Kathryn & 1-11 Lilac St Apts & $\\dots$ \\\\\n",
       "\t14 & 1173728-12-171 & 1081203 & Christopher Holmes & Christopher Holmes & $\\dots$ \\\\\n",
       "\t15 & 1173732-12-171 & 1081205 & Alan Bray & Alan Bray Construction & $\\dots$ \\\\\n",
       "\t16 & 1173734-12-171 & 1081206 & Test 12/28/2017 & Test 12/28/2017 Location 1 / Parking & $\\dots$ \\\\\n",
       "\t17 & 1173736-12-171 & 1081207 & Claire Ogden & 1852 Church Street Rental & $\\dots$ \\\\\n",
       "\t18 & 1173738-12-171 & 1081208 & Nightlight Group, Inc & Nightlight Group, Inc & $\\dots$ \\\\\n",
       "\t19 & 1173622-12-171 & 1081191 & Jeff Alvarez & Lyft & $\\dots$ \\\\\n",
       "\t20 & 1173653-12-171 & 1081197 & Hakkinen Inc & Known Space & $\\dots$ \\\\\n",
       "\t21 & 1173750-12-171 & 1081215 & Career Step Llc & Career Step Llc & $\\dots$ \\\\\n",
       "\t22 & 1173752-12-171 & 1081216 & Yo-Kai Express Inc. & Yo-Kai Express Inc. & $\\dots$ \\\\\n",
       "\t23 & 1173754-12-171 & 1081217 & Rprw, Inc & R \\& R Construction Services & $\\dots$ \\\\\n",
       "\t24 & 1173756-12-171 & 1081218 & Jms Wired,llc & Careers Wired & $\\dots$ \\\\\n",
       "\t25 & 1173757-12-171 & 1081218 & Jms Wired,llc & Jms Wired & $\\dots$ \\\\\n",
       "\t26 & 1173759-12-171 & 1081219 & Ableen Tai & Ableen Tai & $\\dots$ \\\\\n",
       "\t27 & 1173761-12-171 & 1081220 & William G. Samios & William G. Samios & $\\dots$ \\\\\n",
       "\t28 & 1173763-12-171 & 1081221 & 44 Montgomery Street Tenant Llc & Wework & $\\dots$ \\\\\n",
       "\t29 & 1173780-12-171 & 1081229 & Sherese Elsey & Sherese Elsey Photography & $\\dots$ \\\\\n",
       "\t30 & 1173782-12-171 & 1081233 & Cyrene Feliciano & Cyrene Feliciano & $\\dots$ \\\\\n",
       "\t$\\dots$ & $\\dots$ & $\\dots$ & $\\dots$ & $\\dots$ &  \\\\\n",
       "\\end{tabular}\n"
      ],
      "text/plain": [
       "\u001b[1m222871×26 DataFrame\u001b[0m\n",
       "\u001b[1m    Row \u001b[0m│\u001b[1m Location Id    \u001b[0m\u001b[1m Business Account Number \u001b[0m\u001b[1m Ownership Name             \u001b[0m ⋯\n",
       "\u001b[1m        \u001b[0m│\u001b[90m String         \u001b[0m\u001b[90m Int64                   \u001b[0m\u001b[90m String                     \u001b[0m ⋯\n",
       "────────┼───────────────────────────────────────────────────────────────────────\n",
       "      1 │ 0474285-05-001                   474285  Pressed Juicery Inc         ⋯\n",
       "      2 │ 0474285-06-001                   474285  Pressed Juicery Inc\n",
       "      3 │ 1045798-12-151                  1021444  Benhammou Ahmida\n",
       "      4 │ 1170655-12-171                  1080758  San Francisco Security Serv\n",
       "      5 │ 1172862-12-171                  1081156  Teresa. Spalding            ⋯\n",
       "      6 │ 1172877-12-171                  1081158  Three R Properties\n",
       "      7 │ 1172879-12-171                  1081159  Rhi-Mosser 275 Turk, Lp\n",
       "      8 │ 1173595-12-171                  1081185  Weibin Wu\n",
       "      9 │ 1173614-12-171                  1081187  Ockchain Inc                ⋯\n",
       "     10 │ 1173616-12-171                  1081188  Ariel Sultan\n",
       "     11 │ 1173655-12-171                  1081198  Reyes Coca Cola Bottling Ll\n",
       "   ⋮    │       ⋮                    ⋮                             ⋮           ⋱\n",
       " 222862 │ 1136782-02-171                  1065768  Shipt Inc\n",
       " 222863 │ 1138300-03-171                  1066440  Shotski Llc                 ⋯\n",
       " 222864 │ 1141204-03-171                   444184  Indoor Air Sciences\n",
       " 222865 │ 1145856-05-171                  1069966  F2y Llc\n",
       " 222866 │ 1146505-05-171                  1070233  Mitchell Shaun D\n",
       " 222867 │ 1147589-05-171                   458713  California Boiler Inc       ⋯\n",
       " 222868 │ 1148080-05-171                  1070898  Zayed Saeed\n",
       " 222869 │ 1148141-05-171                   333587  Collins Joan L\n",
       " 222870 │ 1148560-05-171                  1064579  Outschool, Inc.\n",
       " 222871 │ 1148606-05-171                  1071093  Petru Vdovicenco            ⋯\n",
       "\u001b[36m                                              24 columns and 222850 rows omitted\u001b[0m"
      ]
     },
     "execution_count": 2,
     "metadata": {},
     "output_type": "execute_result"
    }
   ],
   "source": [
    "df = CSV.read(\"data/Map_of_Registered_Business_Locations.csv\", DataFrame)"
   ]
  },
  {
   "cell_type": "code",
   "execution_count": 3,
   "metadata": {},
   "outputs": [
    {
     "data": {
      "text/html": [
       "<table class=\"data-frame\"><thead><tr><th></th><th>variable</th><th>mean</th><th>min</th></tr><tr><th></th><th>Symbol</th><th>Union…</th><th>Any</th></tr></thead><tbody><p>26 rows × 7 columns (omitted printing of 4 columns)</p><tr><th>1</th><td>Location Id</td><td></td><td>0000024-02-999</td></tr><tr><th>2</th><td>Business Account Number</td><td>6.23106e5</td><td>24</td></tr><tr><th>3</th><td>Ownership Name</td><td></td><td>#10 Sports Llc</td></tr><tr><th>4</th><td>DBA Name</td><td></td><td>#1 Babes</td></tr><tr><th>5</th><td>Street Address</td><td></td><td>#10</td></tr><tr><th>6</th><td>City</td><td></td><td>0</td></tr><tr><th>7</th><td>State</td><td></td><td>AB</td></tr><tr><th>8</th><td>Source Zipcode</td><td>92957.8</td><td>0</td></tr><tr><th>9</th><td>Business Start Date</td><td></td><td>01/01/1941</td></tr><tr><th>10</th><td>Business End Date</td><td></td><td>01/01/1977</td></tr><tr><th>11</th><td>Location Start Date</td><td></td><td>01/01/1941</td></tr><tr><th>12</th><td>Location End Date</td><td></td><td>01/01/1968</td></tr><tr><th>13</th><td>Mail Address</td><td></td><td>#101 150 Sutter St</td></tr><tr><th>14</th><td>Mail City</td><td></td><td>0akland</td></tr><tr><th>15</th><td>Mail Zipcode</td><td></td><td>-</td></tr><tr><th>16</th><td>Mail State</td><td></td><td>AB</td></tr><tr><th>17</th><td>NAICS Code</td><td></td><td>2200-2299</td></tr><tr><th>18</th><td>NAICS Code Description</td><td></td><td>Accommodations</td></tr><tr><th>19</th><td>Parking Tax</td><td>0.00492213</td><td>0</td></tr><tr><th>20</th><td>Transient Occupancy Tax</td><td>0.0229325</td><td>0</td></tr><tr><th>21</th><td>LIC Code</td><td></td><td>A45</td></tr><tr><th>22</th><td>LIC Code Description</td><td></td><td>Application Of Flammable Finishes</td></tr><tr><th>23</th><td>Supervisor District</td><td>5.54662</td><td>1</td></tr><tr><th>24</th><td>Neighborhoods - Analysis Boundaries</td><td></td><td>Bayview Hunters Point</td></tr><tr><th>25</th><td>Business Corridor</td><td></td><td>24th St</td></tr><tr><th>26</th><td>Business Location</td><td></td><td>- BOSTONNYCHICAGOLASAN JOSE NEW YORK, NY 10012\\n(40.725677, -73.997783)</td></tr></tbody></table>"
      ],
      "text/latex": [
       "\\begin{tabular}{r|cccc}\n",
       "\t& variable & mean & min & \\\\\n",
       "\t\\hline\n",
       "\t& Symbol & Union… & Any & \\\\\n",
       "\t\\hline\n",
       "\t1 & Location Id &  & 0000024-02-999 & $\\dots$ \\\\\n",
       "\t2 & Business Account Number & 6.23106e5 & 24 & $\\dots$ \\\\\n",
       "\t3 & Ownership Name &  & \\#10 Sports Llc & $\\dots$ \\\\\n",
       "\t4 & DBA Name &  & \\#1 Babes & $\\dots$ \\\\\n",
       "\t5 & Street Address &  & \\#10 & $\\dots$ \\\\\n",
       "\t6 & City &  & 0 & $\\dots$ \\\\\n",
       "\t7 & State &  & AB & $\\dots$ \\\\\n",
       "\t8 & Source Zipcode & 92957.8 & 0 & $\\dots$ \\\\\n",
       "\t9 & Business Start Date &  & 01/01/1941 & $\\dots$ \\\\\n",
       "\t10 & Business End Date &  & 01/01/1977 & $\\dots$ \\\\\n",
       "\t11 & Location Start Date &  & 01/01/1941 & $\\dots$ \\\\\n",
       "\t12 & Location End Date &  & 01/01/1968 & $\\dots$ \\\\\n",
       "\t13 & Mail Address &  & \\#101 150 Sutter St & $\\dots$ \\\\\n",
       "\t14 & Mail City &  & 0akland & $\\dots$ \\\\\n",
       "\t15 & Mail Zipcode &  & - & $\\dots$ \\\\\n",
       "\t16 & Mail State &  & AB & $\\dots$ \\\\\n",
       "\t17 & NAICS Code &  & 2200-2299 & $\\dots$ \\\\\n",
       "\t18 & NAICS Code Description &  & Accommodations & $\\dots$ \\\\\n",
       "\t19 & Parking Tax & 0.00492213 & 0 & $\\dots$ \\\\\n",
       "\t20 & Transient Occupancy Tax & 0.0229325 & 0 & $\\dots$ \\\\\n",
       "\t21 & LIC Code &  & A45 & $\\dots$ \\\\\n",
       "\t22 & LIC Code Description &  & Application Of Flammable Finishes & $\\dots$ \\\\\n",
       "\t23 & Supervisor District & 5.54662 & 1 & $\\dots$ \\\\\n",
       "\t24 & Neighborhoods - Analysis Boundaries &  & Bayview Hunters Point & $\\dots$ \\\\\n",
       "\t25 & Business Corridor &  & 24th St & $\\dots$ \\\\\n",
       "\t26 & Business Location &  & - BOSTONNYCHICAGOLASAN JOSE NEW YORK, NY 10012\\textbackslash{}n(40.725677, -73.997783) & $\\dots$ \\\\\n",
       "\\end{tabular}\n"
      ],
      "text/plain": [
       "\u001b[1m26×7 DataFrame\u001b[0m\n",
       "\u001b[1m Row \u001b[0m│\u001b[1m variable                          \u001b[0m\u001b[1m mean       \u001b[0m\u001b[1m min                     \u001b[0m ⋯\n",
       "\u001b[1m     \u001b[0m│\u001b[90m Symbol                            \u001b[0m\u001b[90m Union…     \u001b[0m\u001b[90m Any                     \u001b[0m ⋯\n",
       "─────┼──────────────────────────────────────────────────────────────────────────\n",
       "   1 │ Location Id                       \u001b[90m            \u001b[0m 0000024-02-999           ⋯\n",
       "   2 │ Business Account Number            6.23106e5   24\n",
       "   3 │ Ownership Name                    \u001b[90m            \u001b[0m #10 Sports Llc\n",
       "   4 │ DBA Name                          \u001b[90m            \u001b[0m #1 Babes\n",
       "   5 │ Street Address                    \u001b[90m            \u001b[0m #10                      ⋯\n",
       "   6 │ City                              \u001b[90m            \u001b[0m 0\n",
       "   7 │ State                             \u001b[90m            \u001b[0m AB\n",
       "   8 │ Source Zipcode                     92957.8     0\n",
       "   9 │ Business Start Date               \u001b[90m            \u001b[0m 01/01/1941               ⋯\n",
       "  10 │ Business End Date                 \u001b[90m            \u001b[0m 01/01/1977\n",
       "  11 │ Location Start Date               \u001b[90m            \u001b[0m 01/01/1941\n",
       "  ⋮  │                 ⋮                      ⋮                       ⋮        ⋱\n",
       "  17 │ NAICS Code                        \u001b[90m            \u001b[0m 2200-2299\n",
       "  18 │ NAICS Code Description            \u001b[90m            \u001b[0m Accommodations           ⋯\n",
       "  19 │ Parking Tax                        0.00492213  false\n",
       "  20 │ Transient Occupancy Tax            0.0229325   false\n",
       "  21 │ LIC Code                          \u001b[90m            \u001b[0m A45\n",
       "  22 │ LIC Code Description              \u001b[90m            \u001b[0m Application Of Flammable ⋯\n",
       "  23 │ Supervisor District                5.54662     1\n",
       "  24 │ Neighborhoods - Analysis Boundar… \u001b[90m            \u001b[0m Bayview Hunters Point\n",
       "  25 │ Business Corridor                 \u001b[90m            \u001b[0m 24th St\n",
       "  26 │ Business Location                 \u001b[90m            \u001b[0m - BOSTONNYCHICAGOLASAN J ⋯\n",
       "\u001b[36m                                                    5 columns and 5 rows omitted\u001b[0m"
      ]
     },
     "execution_count": 3,
     "metadata": {},
     "output_type": "execute_result"
    }
   ],
   "source": [
    "describe(df)"
   ]
  },
  {
   "cell_type": "code",
   "execution_count": 4,
   "metadata": {},
   "outputs": [
    {
     "data": {
      "text/plain": [
       "222871"
      ]
     },
     "execution_count": 4,
     "metadata": {},
     "output_type": "execute_result"
    }
   ],
   "source": [
    "size(df, 1)"
   ]
  },
  {
   "cell_type": "code",
   "execution_count": 5,
   "metadata": {
    "scrolled": false
   },
   "outputs": [
    {
     "data": {
      "text/html": [
       "<table class=\"data-frame\"><thead><tr><th></th><th>DBA Name</th><th>Parking Tax</th></tr><tr><th></th><th>String</th><th>Bool</th></tr></thead><tbody><p>10 rows × 2 columns</p><tr><th>1</th><td>Test 12/28/2017 Location 1 / Parking</td><td>1</td></tr><tr><th>2</th><td>Douglas Parking</td><td>1</td></tr><tr><th>3</th><td>Douglas Parking</td><td>1</td></tr><tr><th>4</th><td>Douglas Parking</td><td>1</td></tr><tr><th>5</th><td>Volume Parking Services</td><td>1</td></tr><tr><th>6</th><td>Douglas Parking</td><td>1</td></tr><tr><th>7</th><td>Douglas Parking</td><td>1</td></tr><tr><th>8</th><td>Hyde Park Management Llc</td><td>1</td></tr><tr><th>9</th><td>Chestnut Street Lot</td><td>1</td></tr><tr><th>10</th><td>Fillmore Heritage Garage</td><td>1</td></tr></tbody></table>"
      ],
      "text/latex": [
       "\\begin{tabular}{r|cc}\n",
       "\t& DBA Name & Parking Tax\\\\\n",
       "\t\\hline\n",
       "\t& String & Bool\\\\\n",
       "\t\\hline\n",
       "\t1 & Test 12/28/2017 Location 1 / Parking & 1 \\\\\n",
       "\t2 & Douglas Parking & 1 \\\\\n",
       "\t3 & Douglas Parking & 1 \\\\\n",
       "\t4 & Douglas Parking & 1 \\\\\n",
       "\t5 & Volume Parking Services & 1 \\\\\n",
       "\t6 & Douglas Parking & 1 \\\\\n",
       "\t7 & Douglas Parking & 1 \\\\\n",
       "\t8 & Hyde Park Management Llc & 1 \\\\\n",
       "\t9 & Chestnut Street Lot & 1 \\\\\n",
       "\t10 & Fillmore Heritage Garage & 1 \\\\\n",
       "\\end{tabular}\n"
      ],
      "text/plain": [
       "\u001b[1m10×2 DataFrame\u001b[0m\n",
       "\u001b[1m Row \u001b[0m│\u001b[1m DBA Name                          \u001b[0m\u001b[1m Parking Tax \u001b[0m\n",
       "\u001b[1m     \u001b[0m│\u001b[90m String                            \u001b[0m\u001b[90m Bool        \u001b[0m\n",
       "─────┼────────────────────────────────────────────────\n",
       "   1 │ Test 12/28/2017 Location 1 / Par…         true\n",
       "   2 │ Douglas Parking                           true\n",
       "   3 │ Douglas Parking                           true\n",
       "   4 │ Douglas Parking                           true\n",
       "   5 │ Volume Parking Services                   true\n",
       "   6 │ Douglas Parking                           true\n",
       "   7 │ Douglas Parking                           true\n",
       "   8 │ Hyde Park Management Llc                  true\n",
       "   9 │ Chestnut Street Lot                       true\n",
       "  10 │ Fillmore Heritage Garage                  true"
      ]
     },
     "execution_count": 5,
     "metadata": {},
     "output_type": "execute_result"
    }
   ],
   "source": [
    "df[df[!, Symbol(\"Parking Tax\")] .== true, :][1:10, [Symbol(\"DBA Name\"), Symbol(\"Parking Tax\")]]"
   ]
  },
  {
   "cell_type": "code",
   "execution_count": null,
   "metadata": {},
   "outputs": [],
   "source": []
  },
  {
   "cell_type": "code",
   "execution_count": 6,
   "metadata": {},
   "outputs": [],
   "source": [
    "using Query"
   ]
  },
  {
   "cell_type": "code",
   "execution_count": 7,
   "metadata": {
    "scrolled": false
   },
   "outputs": [
    {
     "data": {
      "text/html": [
       "<table class=\"data-frame\"><thead><tr><th></th><th>Location Id</th><th>Business Account Number</th><th>Ownership Name</th><th>DBA Name</th></tr><tr><th></th><th>String</th><th>Int64</th><th>String</th><th>String</th></tr></thead><tbody><p>1,097 rows × 26 columns (omitted printing of 22 columns)</p><tr><th>1</th><td>1173734-12-171</td><td>1081206</td><td>Test 12/28/2017</td><td>Test 12/28/2017 Location 1 / Parking</td></tr><tr><th>2</th><td>0331622-05-001</td><td>331622</td><td>Douglas Parking Llc</td><td>Douglas Parking</td></tr><tr><th>3</th><td>0331622-07-001</td><td>331622</td><td>Douglas Parking Llc</td><td>Douglas Parking</td></tr><tr><th>4</th><td>1003077-07-141</td><td>331622</td><td>Douglas Parking Llc</td><td>Douglas Parking</td></tr><tr><th>5</th><td>1059531-03-161</td><td>1009459</td><td>Volume Parking Services Inc</td><td>Volume Parking Services</td></tr><tr><th>6</th><td>1099910-08-161</td><td>331622</td><td>Douglas Parking Llc</td><td>Douglas Parking</td></tr><tr><th>7</th><td>1138241-02-171</td><td>331622</td><td>Douglas Parking Llc</td><td>Douglas Parking</td></tr><tr><th>8</th><td>1173943-12-171</td><td>433156</td><td>Hyde Park Management Llc</td><td>Hyde Park Management Llc</td></tr><tr><th>9</th><td>1003009-07-141</td><td>329140</td><td>Imperial Parking (Us) Llc</td><td>Chestnut Street Lot</td></tr><tr><th>10</th><td>1003010-07-141</td><td>329140</td><td>Imperial Parking (Us) Llc</td><td>Fillmore Heritage Garage</td></tr><tr><th>11</th><td>1056407-02-161</td><td>329140</td><td>Imperial Parking (Us) Llc</td><td>Impark 0357-B</td></tr><tr><th>12</th><td>1056409-02-161</td><td>329140</td><td>Imperial Parking (Us) Llc</td><td>Impark 0376</td></tr><tr><th>13</th><td>1056410-02-161</td><td>329140</td><td>Imperial Parking (Us) Llc</td><td>Impark 0390</td></tr><tr><th>14</th><td>1056699-02-161</td><td>329140</td><td>Imperial Parking (Us) Llc</td><td>Impark 0310</td></tr><tr><th>15</th><td>1056706-02-161</td><td>329140</td><td>Imperial Parking (Us) Llc</td><td>Impark 0315</td></tr><tr><th>16</th><td>1056707-02-161</td><td>329140</td><td>Imperial Parking (Us) Llc</td><td>Impark 0316</td></tr><tr><th>17</th><td>1056708-02-161</td><td>329140</td><td>Imperial Parking (Us) Llc</td><td>Impark 0321</td></tr><tr><th>18</th><td>1056723-02-161</td><td>329140</td><td>Imperial Parking (Us) Llc</td><td>Impark 0324</td></tr><tr><th>19</th><td>1056745-02-161</td><td>329140</td><td>Imperial Parking (Us) Llc</td><td>Impark 0334</td></tr><tr><th>20</th><td>1056748-02-161</td><td>329140</td><td>Imperial Parking (Us) Llc</td><td>Impark 0335</td></tr><tr><th>21</th><td>1056750-02-161</td><td>329140</td><td>Imperial Parking (Us) Llc</td><td>Impark 0336</td></tr><tr><th>22</th><td>1056758-02-161</td><td>329140</td><td>Imperial Parking (Us) Llc</td><td>Impark 0339</td></tr><tr><th>23</th><td>1056763-02-161</td><td>329140</td><td>Imperial Parking (Us) Llc</td><td>Impark 0341</td></tr><tr><th>24</th><td>1056764-02-161</td><td>329140</td><td>Imperial Parking (Us) Llc</td><td>Impark 0342</td></tr><tr><th>25</th><td>1056766-02-161</td><td>329140</td><td>Imperial Parking (Us) Llc</td><td>Impark 0343</td></tr><tr><th>26</th><td>1056769-02-161</td><td>329140</td><td>Imperial Parking (Us) Llc</td><td>Impark 0344</td></tr><tr><th>27</th><td>1056890-03-161</td><td>329140</td><td>Imperial Parking (Us) Llc</td><td>Impark 0354</td></tr><tr><th>28</th><td>1056891-03-161</td><td>329140</td><td>Imperial Parking (Us) Llc</td><td>Impark 0356</td></tr><tr><th>29</th><td>1056897-03-161</td><td>329140</td><td>Imperial Parking (Us) Llc</td><td>Impark 0364</td></tr><tr><th>30</th><td>1056898-03-161</td><td>329140</td><td>Imperial Parking (Us) Llc</td><td>Impark 0365</td></tr><tr><th>&vellip;</th><td>&vellip;</td><td>&vellip;</td><td>&vellip;</td><td>&vellip;</td></tr></tbody></table>"
      ],
      "text/latex": [
       "\\begin{tabular}{r|ccccc}\n",
       "\t& Location Id & Business Account Number & Ownership Name & DBA Name & \\\\\n",
       "\t\\hline\n",
       "\t& String & Int64 & String & String & \\\\\n",
       "\t\\hline\n",
       "\t1 & 1173734-12-171 & 1081206 & Test 12/28/2017 & Test 12/28/2017 Location 1 / Parking & $\\dots$ \\\\\n",
       "\t2 & 0331622-05-001 & 331622 & Douglas Parking Llc & Douglas Parking & $\\dots$ \\\\\n",
       "\t3 & 0331622-07-001 & 331622 & Douglas Parking Llc & Douglas Parking & $\\dots$ \\\\\n",
       "\t4 & 1003077-07-141 & 331622 & Douglas Parking Llc & Douglas Parking & $\\dots$ \\\\\n",
       "\t5 & 1059531-03-161 & 1009459 & Volume Parking Services Inc & Volume Parking Services & $\\dots$ \\\\\n",
       "\t6 & 1099910-08-161 & 331622 & Douglas Parking Llc & Douglas Parking & $\\dots$ \\\\\n",
       "\t7 & 1138241-02-171 & 331622 & Douglas Parking Llc & Douglas Parking & $\\dots$ \\\\\n",
       "\t8 & 1173943-12-171 & 433156 & Hyde Park Management Llc & Hyde Park Management Llc & $\\dots$ \\\\\n",
       "\t9 & 1003009-07-141 & 329140 & Imperial Parking (Us) Llc & Chestnut Street Lot & $\\dots$ \\\\\n",
       "\t10 & 1003010-07-141 & 329140 & Imperial Parking (Us) Llc & Fillmore Heritage Garage & $\\dots$ \\\\\n",
       "\t11 & 1056407-02-161 & 329140 & Imperial Parking (Us) Llc & Impark 0357-B & $\\dots$ \\\\\n",
       "\t12 & 1056409-02-161 & 329140 & Imperial Parking (Us) Llc & Impark 0376 & $\\dots$ \\\\\n",
       "\t13 & 1056410-02-161 & 329140 & Imperial Parking (Us) Llc & Impark 0390 & $\\dots$ \\\\\n",
       "\t14 & 1056699-02-161 & 329140 & Imperial Parking (Us) Llc & Impark 0310 & $\\dots$ \\\\\n",
       "\t15 & 1056706-02-161 & 329140 & Imperial Parking (Us) Llc & Impark 0315 & $\\dots$ \\\\\n",
       "\t16 & 1056707-02-161 & 329140 & Imperial Parking (Us) Llc & Impark 0316 & $\\dots$ \\\\\n",
       "\t17 & 1056708-02-161 & 329140 & Imperial Parking (Us) Llc & Impark 0321 & $\\dots$ \\\\\n",
       "\t18 & 1056723-02-161 & 329140 & Imperial Parking (Us) Llc & Impark 0324 & $\\dots$ \\\\\n",
       "\t19 & 1056745-02-161 & 329140 & Imperial Parking (Us) Llc & Impark 0334 & $\\dots$ \\\\\n",
       "\t20 & 1056748-02-161 & 329140 & Imperial Parking (Us) Llc & Impark 0335 & $\\dots$ \\\\\n",
       "\t21 & 1056750-02-161 & 329140 & Imperial Parking (Us) Llc & Impark 0336 & $\\dots$ \\\\\n",
       "\t22 & 1056758-02-161 & 329140 & Imperial Parking (Us) Llc & Impark 0339 & $\\dots$ \\\\\n",
       "\t23 & 1056763-02-161 & 329140 & Imperial Parking (Us) Llc & Impark 0341 & $\\dots$ \\\\\n",
       "\t24 & 1056764-02-161 & 329140 & Imperial Parking (Us) Llc & Impark 0342 & $\\dots$ \\\\\n",
       "\t25 & 1056766-02-161 & 329140 & Imperial Parking (Us) Llc & Impark 0343 & $\\dots$ \\\\\n",
       "\t26 & 1056769-02-161 & 329140 & Imperial Parking (Us) Llc & Impark 0344 & $\\dots$ \\\\\n",
       "\t27 & 1056890-03-161 & 329140 & Imperial Parking (Us) Llc & Impark 0354 & $\\dots$ \\\\\n",
       "\t28 & 1056891-03-161 & 329140 & Imperial Parking (Us) Llc & Impark 0356 & $\\dots$ \\\\\n",
       "\t29 & 1056897-03-161 & 329140 & Imperial Parking (Us) Llc & Impark 0364 & $\\dots$ \\\\\n",
       "\t30 & 1056898-03-161 & 329140 & Imperial Parking (Us) Llc & Impark 0365 & $\\dots$ \\\\\n",
       "\t$\\dots$ & $\\dots$ & $\\dots$ & $\\dots$ & $\\dots$ &  \\\\\n",
       "\\end{tabular}\n"
      ],
      "text/plain": [
       "\u001b[1m1097×26 DataFrame\u001b[0m\n",
       "\u001b[1m  Row \u001b[0m│\u001b[1m Location Id    \u001b[0m\u001b[1m Business Account Number \u001b[0m\u001b[1m Ownership Name               \u001b[0m ⋯\n",
       "\u001b[1m      \u001b[0m│\u001b[90m String         \u001b[0m\u001b[90m Int64                   \u001b[0m\u001b[90m String                       \u001b[0m ⋯\n",
       "──────┼─────────────────────────────────────────────────────────────────────────\n",
       "    1 │ 1173734-12-171                  1081206  Test 12/28/2017               ⋯\n",
       "    2 │ 0331622-05-001                   331622  Douglas Parking Llc\n",
       "    3 │ 0331622-07-001                   331622  Douglas Parking Llc\n",
       "    4 │ 1003077-07-141                   331622  Douglas Parking Llc\n",
       "    5 │ 1059531-03-161                  1009459  Volume Parking Services Inc   ⋯\n",
       "    6 │ 1099910-08-161                   331622  Douglas Parking Llc\n",
       "    7 │ 1138241-02-171                   331622  Douglas Parking Llc\n",
       "    8 │ 1173943-12-171                   433156  Hyde Park Management Llc\n",
       "    9 │ 1003009-07-141                   329140  Imperial Parking (Us) Llc     ⋯\n",
       "   10 │ 1003010-07-141                   329140  Imperial Parking (Us) Llc\n",
       "   11 │ 1056407-02-161                   329140  Imperial Parking (Us) Llc\n",
       "  ⋮   │       ⋮                    ⋮                           ⋮               ⋱\n",
       " 1088 │ 1013757-12-141                   461521  Abm Onsite Services-West Inc\n",
       " 1089 │ 1149238-06-171                   347331  Propark America West Llc      ⋯\n",
       " 1090 │ 1013889-12-141                   461521  Abm Onsite Services-West Inc\n",
       " 1091 │ 1029476-05-151                  1014039  Gaetani Real Estate\n",
       " 1092 │ 1013797-12-141                   461521  Abm Onsite Services-West Inc\n",
       " 1093 │ 1013798-12-141                   461521  Abm Onsite Services-West Inc  ⋯\n",
       " 1094 │ 1013799-12-141                   461521  Abm Onsite Services-West Inc\n",
       " 1095 │ 1018695-02-151                   105437  255 Steiner Llc\n",
       " 1096 │ 1118609-09-161                   446177  Laz Parking California Llc\n",
       " 1097 │ 1136748-02-171                   347331  Propark America West Llc      ⋯\n",
       "\u001b[36m                                                24 columns and 1076 rows omitted\u001b[0m"
      ]
     },
     "execution_count": 7,
     "metadata": {},
     "output_type": "execute_result"
    }
   ],
   "source": [
    "@from i in df begin\n",
    "\t@where i[Symbol(\"Parking Tax\")] == true\n",
    "\t@select i\n",
    "\t@collect DataFrame\n",
    "end"
   ]
  },
  {
   "cell_type": "code",
   "execution_count": 8,
   "metadata": {},
   "outputs": [
    {
     "data": {
      "text/html": [
       "<table class=\"data-frame\"><thead><tr><th></th><th>Location_Id</th><th>Business_Account_Number</th><th>Ownership_Name</th><th>DBA_Name</th></tr><tr><th></th><th>String</th><th>Int64</th><th>String</th><th>String</th></tr></thead><tbody><p>222,871 rows × 26 columns (omitted printing of 22 columns)</p><tr><th>1</th><td>0474285-05-001</td><td>474285</td><td>Pressed Juicery Inc</td><td>Pressed Juicery</td></tr><tr><th>2</th><td>0474285-06-001</td><td>474285</td><td>Pressed Juicery Inc</td><td>Pressed Juicery</td></tr><tr><th>3</th><td>1045798-12-151</td><td>1021444</td><td>Benhammou Ahmida</td><td>Zaalouk Market &amp; Deli Grocery</td></tr><tr><th>4</th><td>1170655-12-171</td><td>1080758</td><td>San Francisco Security Services Llc</td><td>San Francisco Security Services Llc</td></tr><tr><th>5</th><td>1172862-12-171</td><td>1081156</td><td>Teresa. Spalding</td><td>Teresa Spalding</td></tr><tr><th>6</th><td>1172877-12-171</td><td>1081158</td><td>Three R Properties</td><td>Three R Properties</td></tr><tr><th>7</th><td>1172879-12-171</td><td>1081159</td><td>Rhi-Mosser 275 Turk, Lp</td><td>Rhi-Mosser 275 Turk, Lp</td></tr><tr><th>8</th><td>1173595-12-171</td><td>1081185</td><td>Weibin Wu</td><td>Weibin Wu</td></tr><tr><th>9</th><td>1173614-12-171</td><td>1081187</td><td>Ockchain Inc</td><td>Ockchain Inc</td></tr><tr><th>10</th><td>1173616-12-171</td><td>1081188</td><td>Ariel Sultan</td><td>San Francisco</td></tr><tr><th>11</th><td>1173655-12-171</td><td>1081198</td><td>Reyes Coca Cola Bottling Llc</td><td>Reyes Coca Cola Bottling Llcd</td></tr><tr><th>12</th><td>0313066-03-999</td><td>313066</td><td>Johnson Sarah H</td><td>Sarah Johnson</td></tr><tr><th>13</th><td>0341035-02-001</td><td>341035</td><td>Van Der Zee Peter &amp; Kathryn</td><td>1-11 Lilac St Apts</td></tr><tr><th>14</th><td>1173728-12-171</td><td>1081203</td><td>Christopher Holmes</td><td>Christopher Holmes</td></tr><tr><th>15</th><td>1173732-12-171</td><td>1081205</td><td>Alan Bray</td><td>Alan Bray Construction</td></tr><tr><th>16</th><td>1173734-12-171</td><td>1081206</td><td>Test 12/28/2017</td><td>Test 12/28/2017 Location 1 / Parking</td></tr><tr><th>17</th><td>1173736-12-171</td><td>1081207</td><td>Claire Ogden</td><td>1852 Church Street Rental</td></tr><tr><th>18</th><td>1173738-12-171</td><td>1081208</td><td>Nightlight Group, Inc</td><td>Nightlight Group, Inc</td></tr><tr><th>19</th><td>1173622-12-171</td><td>1081191</td><td>Jeff Alvarez</td><td>Lyft</td></tr><tr><th>20</th><td>1173653-12-171</td><td>1081197</td><td>Hakkinen Inc</td><td>Known Space</td></tr><tr><th>21</th><td>1173750-12-171</td><td>1081215</td><td>Career Step Llc</td><td>Career Step Llc</td></tr><tr><th>22</th><td>1173752-12-171</td><td>1081216</td><td>Yo-Kai Express Inc.</td><td>Yo-Kai Express Inc.</td></tr><tr><th>23</th><td>1173754-12-171</td><td>1081217</td><td>Rprw, Inc</td><td>R &amp; R Construction Services</td></tr><tr><th>24</th><td>1173756-12-171</td><td>1081218</td><td>Jms Wired,llc</td><td>Careers Wired</td></tr><tr><th>25</th><td>1173757-12-171</td><td>1081218</td><td>Jms Wired,llc</td><td>Jms Wired</td></tr><tr><th>26</th><td>1173759-12-171</td><td>1081219</td><td>Ableen Tai</td><td>Ableen Tai</td></tr><tr><th>27</th><td>1173761-12-171</td><td>1081220</td><td>William G. Samios</td><td>William G. Samios</td></tr><tr><th>28</th><td>1173763-12-171</td><td>1081221</td><td>44 Montgomery Street Tenant Llc</td><td>Wework</td></tr><tr><th>29</th><td>1173780-12-171</td><td>1081229</td><td>Sherese Elsey</td><td>Sherese Elsey Photography</td></tr><tr><th>30</th><td>1173782-12-171</td><td>1081233</td><td>Cyrene Feliciano</td><td>Cyrene Feliciano</td></tr><tr><th>&vellip;</th><td>&vellip;</td><td>&vellip;</td><td>&vellip;</td><td>&vellip;</td></tr></tbody></table>"
      ],
      "text/latex": [
       "\\begin{tabular}{r|ccccc}\n",
       "\t& Location\\_Id & Business\\_Account\\_Number & Ownership\\_Name & DBA\\_Name & \\\\\n",
       "\t\\hline\n",
       "\t& String & Int64 & String & String & \\\\\n",
       "\t\\hline\n",
       "\t1 & 0474285-05-001 & 474285 & Pressed Juicery Inc & Pressed Juicery & $\\dots$ \\\\\n",
       "\t2 & 0474285-06-001 & 474285 & Pressed Juicery Inc & Pressed Juicery & $\\dots$ \\\\\n",
       "\t3 & 1045798-12-151 & 1021444 & Benhammou Ahmida & Zaalouk Market \\& Deli Grocery & $\\dots$ \\\\\n",
       "\t4 & 1170655-12-171 & 1080758 & San Francisco Security Services Llc & San Francisco Security Services Llc & $\\dots$ \\\\\n",
       "\t5 & 1172862-12-171 & 1081156 & Teresa. Spalding & Teresa Spalding & $\\dots$ \\\\\n",
       "\t6 & 1172877-12-171 & 1081158 & Three R Properties & Three R Properties & $\\dots$ \\\\\n",
       "\t7 & 1172879-12-171 & 1081159 & Rhi-Mosser 275 Turk, Lp & Rhi-Mosser 275 Turk, Lp & $\\dots$ \\\\\n",
       "\t8 & 1173595-12-171 & 1081185 & Weibin Wu & Weibin Wu & $\\dots$ \\\\\n",
       "\t9 & 1173614-12-171 & 1081187 & Ockchain Inc & Ockchain Inc & $\\dots$ \\\\\n",
       "\t10 & 1173616-12-171 & 1081188 & Ariel Sultan & San Francisco & $\\dots$ \\\\\n",
       "\t11 & 1173655-12-171 & 1081198 & Reyes Coca Cola Bottling Llc & Reyes Coca Cola Bottling Llcd & $\\dots$ \\\\\n",
       "\t12 & 0313066-03-999 & 313066 & Johnson Sarah H & Sarah Johnson & $\\dots$ \\\\\n",
       "\t13 & 0341035-02-001 & 341035 & Van Der Zee Peter \\& Kathryn & 1-11 Lilac St Apts & $\\dots$ \\\\\n",
       "\t14 & 1173728-12-171 & 1081203 & Christopher Holmes & Christopher Holmes & $\\dots$ \\\\\n",
       "\t15 & 1173732-12-171 & 1081205 & Alan Bray & Alan Bray Construction & $\\dots$ \\\\\n",
       "\t16 & 1173734-12-171 & 1081206 & Test 12/28/2017 & Test 12/28/2017 Location 1 / Parking & $\\dots$ \\\\\n",
       "\t17 & 1173736-12-171 & 1081207 & Claire Ogden & 1852 Church Street Rental & $\\dots$ \\\\\n",
       "\t18 & 1173738-12-171 & 1081208 & Nightlight Group, Inc & Nightlight Group, Inc & $\\dots$ \\\\\n",
       "\t19 & 1173622-12-171 & 1081191 & Jeff Alvarez & Lyft & $\\dots$ \\\\\n",
       "\t20 & 1173653-12-171 & 1081197 & Hakkinen Inc & Known Space & $\\dots$ \\\\\n",
       "\t21 & 1173750-12-171 & 1081215 & Career Step Llc & Career Step Llc & $\\dots$ \\\\\n",
       "\t22 & 1173752-12-171 & 1081216 & Yo-Kai Express Inc. & Yo-Kai Express Inc. & $\\dots$ \\\\\n",
       "\t23 & 1173754-12-171 & 1081217 & Rprw, Inc & R \\& R Construction Services & $\\dots$ \\\\\n",
       "\t24 & 1173756-12-171 & 1081218 & Jms Wired,llc & Careers Wired & $\\dots$ \\\\\n",
       "\t25 & 1173757-12-171 & 1081218 & Jms Wired,llc & Jms Wired & $\\dots$ \\\\\n",
       "\t26 & 1173759-12-171 & 1081219 & Ableen Tai & Ableen Tai & $\\dots$ \\\\\n",
       "\t27 & 1173761-12-171 & 1081220 & William G. Samios & William G. Samios & $\\dots$ \\\\\n",
       "\t28 & 1173763-12-171 & 1081221 & 44 Montgomery Street Tenant Llc & Wework & $\\dots$ \\\\\n",
       "\t29 & 1173780-12-171 & 1081229 & Sherese Elsey & Sherese Elsey Photography & $\\dots$ \\\\\n",
       "\t30 & 1173782-12-171 & 1081233 & Cyrene Feliciano & Cyrene Feliciano & $\\dots$ \\\\\n",
       "\t$\\dots$ & $\\dots$ & $\\dots$ & $\\dots$ & $\\dots$ &  \\\\\n",
       "\\end{tabular}\n"
      ],
      "text/plain": [
       "\u001b[1m222871×26 DataFrame\u001b[0m\n",
       "\u001b[1m    Row \u001b[0m│\u001b[1m Location_Id    \u001b[0m\u001b[1m Business_Account_Number \u001b[0m\u001b[1m Ownership_Name             \u001b[0m ⋯\n",
       "\u001b[1m        \u001b[0m│\u001b[90m String         \u001b[0m\u001b[90m Int64                   \u001b[0m\u001b[90m String                     \u001b[0m ⋯\n",
       "────────┼───────────────────────────────────────────────────────────────────────\n",
       "      1 │ 0474285-05-001                   474285  Pressed Juicery Inc         ⋯\n",
       "      2 │ 0474285-06-001                   474285  Pressed Juicery Inc\n",
       "      3 │ 1045798-12-151                  1021444  Benhammou Ahmida\n",
       "      4 │ 1170655-12-171                  1080758  San Francisco Security Serv\n",
       "      5 │ 1172862-12-171                  1081156  Teresa. Spalding            ⋯\n",
       "      6 │ 1172877-12-171                  1081158  Three R Properties\n",
       "      7 │ 1172879-12-171                  1081159  Rhi-Mosser 275 Turk, Lp\n",
       "      8 │ 1173595-12-171                  1081185  Weibin Wu\n",
       "      9 │ 1173614-12-171                  1081187  Ockchain Inc                ⋯\n",
       "     10 │ 1173616-12-171                  1081188  Ariel Sultan\n",
       "     11 │ 1173655-12-171                  1081198  Reyes Coca Cola Bottling Ll\n",
       "   ⋮    │       ⋮                    ⋮                             ⋮           ⋱\n",
       " 222862 │ 1136782-02-171                  1065768  Shipt Inc\n",
       " 222863 │ 1138300-03-171                  1066440  Shotski Llc                 ⋯\n",
       " 222864 │ 1141204-03-171                   444184  Indoor Air Sciences\n",
       " 222865 │ 1145856-05-171                  1069966  F2y Llc\n",
       " 222866 │ 1146505-05-171                  1070233  Mitchell Shaun D\n",
       " 222867 │ 1147589-05-171                   458713  California Boiler Inc       ⋯\n",
       " 222868 │ 1148080-05-171                  1070898  Zayed Saeed\n",
       " 222869 │ 1148141-05-171                   333587  Collins Joan L\n",
       " 222870 │ 1148560-05-171                  1064579  Outschool, Inc.\n",
       " 222871 │ 1148606-05-171                  1071093  Petru Vdovicenco            ⋯\n",
       "\u001b[36m                                              24 columns and 222850 rows omitted\u001b[0m"
      ]
     },
     "execution_count": 8,
     "metadata": {},
     "output_type": "execute_result"
    }
   ],
   "source": [
    "rename!(df, [n => replace(string(n), \" \"=>\"_\") |> Symbol for n in names(df)])"
   ]
  },
  {
   "cell_type": "code",
   "execution_count": 9,
   "metadata": {
    "scrolled": false
   },
   "outputs": [
    {
     "data": {
      "text/html": [
       "<table class=\"data-frame\"><thead><tr><th></th><th>Location_Id</th><th>Business_Account_Number</th><th>Ownership_Name</th><th>DBA_Name</th></tr><tr><th></th><th>String</th><th>Int64</th><th>String</th><th>String</th></tr></thead><tbody><p>1,097 rows × 26 columns (omitted printing of 22 columns)</p><tr><th>1</th><td>1173734-12-171</td><td>1081206</td><td>Test 12/28/2017</td><td>Test 12/28/2017 Location 1 / Parking</td></tr><tr><th>2</th><td>0331622-05-001</td><td>331622</td><td>Douglas Parking Llc</td><td>Douglas Parking</td></tr><tr><th>3</th><td>0331622-07-001</td><td>331622</td><td>Douglas Parking Llc</td><td>Douglas Parking</td></tr><tr><th>4</th><td>1003077-07-141</td><td>331622</td><td>Douglas Parking Llc</td><td>Douglas Parking</td></tr><tr><th>5</th><td>1059531-03-161</td><td>1009459</td><td>Volume Parking Services Inc</td><td>Volume Parking Services</td></tr><tr><th>6</th><td>1099910-08-161</td><td>331622</td><td>Douglas Parking Llc</td><td>Douglas Parking</td></tr><tr><th>7</th><td>1138241-02-171</td><td>331622</td><td>Douglas Parking Llc</td><td>Douglas Parking</td></tr><tr><th>8</th><td>1173943-12-171</td><td>433156</td><td>Hyde Park Management Llc</td><td>Hyde Park Management Llc</td></tr><tr><th>9</th><td>1003009-07-141</td><td>329140</td><td>Imperial Parking (Us) Llc</td><td>Chestnut Street Lot</td></tr><tr><th>10</th><td>1003010-07-141</td><td>329140</td><td>Imperial Parking (Us) Llc</td><td>Fillmore Heritage Garage</td></tr><tr><th>11</th><td>1056407-02-161</td><td>329140</td><td>Imperial Parking (Us) Llc</td><td>Impark 0357-B</td></tr><tr><th>12</th><td>1056409-02-161</td><td>329140</td><td>Imperial Parking (Us) Llc</td><td>Impark 0376</td></tr><tr><th>13</th><td>1056410-02-161</td><td>329140</td><td>Imperial Parking (Us) Llc</td><td>Impark 0390</td></tr><tr><th>14</th><td>1056699-02-161</td><td>329140</td><td>Imperial Parking (Us) Llc</td><td>Impark 0310</td></tr><tr><th>15</th><td>1056706-02-161</td><td>329140</td><td>Imperial Parking (Us) Llc</td><td>Impark 0315</td></tr><tr><th>16</th><td>1056707-02-161</td><td>329140</td><td>Imperial Parking (Us) Llc</td><td>Impark 0316</td></tr><tr><th>17</th><td>1056708-02-161</td><td>329140</td><td>Imperial Parking (Us) Llc</td><td>Impark 0321</td></tr><tr><th>18</th><td>1056723-02-161</td><td>329140</td><td>Imperial Parking (Us) Llc</td><td>Impark 0324</td></tr><tr><th>19</th><td>1056745-02-161</td><td>329140</td><td>Imperial Parking (Us) Llc</td><td>Impark 0334</td></tr><tr><th>20</th><td>1056748-02-161</td><td>329140</td><td>Imperial Parking (Us) Llc</td><td>Impark 0335</td></tr><tr><th>21</th><td>1056750-02-161</td><td>329140</td><td>Imperial Parking (Us) Llc</td><td>Impark 0336</td></tr><tr><th>22</th><td>1056758-02-161</td><td>329140</td><td>Imperial Parking (Us) Llc</td><td>Impark 0339</td></tr><tr><th>23</th><td>1056763-02-161</td><td>329140</td><td>Imperial Parking (Us) Llc</td><td>Impark 0341</td></tr><tr><th>24</th><td>1056764-02-161</td><td>329140</td><td>Imperial Parking (Us) Llc</td><td>Impark 0342</td></tr><tr><th>25</th><td>1056766-02-161</td><td>329140</td><td>Imperial Parking (Us) Llc</td><td>Impark 0343</td></tr><tr><th>26</th><td>1056769-02-161</td><td>329140</td><td>Imperial Parking (Us) Llc</td><td>Impark 0344</td></tr><tr><th>27</th><td>1056890-03-161</td><td>329140</td><td>Imperial Parking (Us) Llc</td><td>Impark 0354</td></tr><tr><th>28</th><td>1056891-03-161</td><td>329140</td><td>Imperial Parking (Us) Llc</td><td>Impark 0356</td></tr><tr><th>29</th><td>1056897-03-161</td><td>329140</td><td>Imperial Parking (Us) Llc</td><td>Impark 0364</td></tr><tr><th>30</th><td>1056898-03-161</td><td>329140</td><td>Imperial Parking (Us) Llc</td><td>Impark 0365</td></tr><tr><th>&vellip;</th><td>&vellip;</td><td>&vellip;</td><td>&vellip;</td><td>&vellip;</td></tr></tbody></table>"
      ],
      "text/latex": [
       "\\begin{tabular}{r|ccccc}\n",
       "\t& Location\\_Id & Business\\_Account\\_Number & Ownership\\_Name & DBA\\_Name & \\\\\n",
       "\t\\hline\n",
       "\t& String & Int64 & String & String & \\\\\n",
       "\t\\hline\n",
       "\t1 & 1173734-12-171 & 1081206 & Test 12/28/2017 & Test 12/28/2017 Location 1 / Parking & $\\dots$ \\\\\n",
       "\t2 & 0331622-05-001 & 331622 & Douglas Parking Llc & Douglas Parking & $\\dots$ \\\\\n",
       "\t3 & 0331622-07-001 & 331622 & Douglas Parking Llc & Douglas Parking & $\\dots$ \\\\\n",
       "\t4 & 1003077-07-141 & 331622 & Douglas Parking Llc & Douglas Parking & $\\dots$ \\\\\n",
       "\t5 & 1059531-03-161 & 1009459 & Volume Parking Services Inc & Volume Parking Services & $\\dots$ \\\\\n",
       "\t6 & 1099910-08-161 & 331622 & Douglas Parking Llc & Douglas Parking & $\\dots$ \\\\\n",
       "\t7 & 1138241-02-171 & 331622 & Douglas Parking Llc & Douglas Parking & $\\dots$ \\\\\n",
       "\t8 & 1173943-12-171 & 433156 & Hyde Park Management Llc & Hyde Park Management Llc & $\\dots$ \\\\\n",
       "\t9 & 1003009-07-141 & 329140 & Imperial Parking (Us) Llc & Chestnut Street Lot & $\\dots$ \\\\\n",
       "\t10 & 1003010-07-141 & 329140 & Imperial Parking (Us) Llc & Fillmore Heritage Garage & $\\dots$ \\\\\n",
       "\t11 & 1056407-02-161 & 329140 & Imperial Parking (Us) Llc & Impark 0357-B & $\\dots$ \\\\\n",
       "\t12 & 1056409-02-161 & 329140 & Imperial Parking (Us) Llc & Impark 0376 & $\\dots$ \\\\\n",
       "\t13 & 1056410-02-161 & 329140 & Imperial Parking (Us) Llc & Impark 0390 & $\\dots$ \\\\\n",
       "\t14 & 1056699-02-161 & 329140 & Imperial Parking (Us) Llc & Impark 0310 & $\\dots$ \\\\\n",
       "\t15 & 1056706-02-161 & 329140 & Imperial Parking (Us) Llc & Impark 0315 & $\\dots$ \\\\\n",
       "\t16 & 1056707-02-161 & 329140 & Imperial Parking (Us) Llc & Impark 0316 & $\\dots$ \\\\\n",
       "\t17 & 1056708-02-161 & 329140 & Imperial Parking (Us) Llc & Impark 0321 & $\\dots$ \\\\\n",
       "\t18 & 1056723-02-161 & 329140 & Imperial Parking (Us) Llc & Impark 0324 & $\\dots$ \\\\\n",
       "\t19 & 1056745-02-161 & 329140 & Imperial Parking (Us) Llc & Impark 0334 & $\\dots$ \\\\\n",
       "\t20 & 1056748-02-161 & 329140 & Imperial Parking (Us) Llc & Impark 0335 & $\\dots$ \\\\\n",
       "\t21 & 1056750-02-161 & 329140 & Imperial Parking (Us) Llc & Impark 0336 & $\\dots$ \\\\\n",
       "\t22 & 1056758-02-161 & 329140 & Imperial Parking (Us) Llc & Impark 0339 & $\\dots$ \\\\\n",
       "\t23 & 1056763-02-161 & 329140 & Imperial Parking (Us) Llc & Impark 0341 & $\\dots$ \\\\\n",
       "\t24 & 1056764-02-161 & 329140 & Imperial Parking (Us) Llc & Impark 0342 & $\\dots$ \\\\\n",
       "\t25 & 1056766-02-161 & 329140 & Imperial Parking (Us) Llc & Impark 0343 & $\\dots$ \\\\\n",
       "\t26 & 1056769-02-161 & 329140 & Imperial Parking (Us) Llc & Impark 0344 & $\\dots$ \\\\\n",
       "\t27 & 1056890-03-161 & 329140 & Imperial Parking (Us) Llc & Impark 0354 & $\\dots$ \\\\\n",
       "\t28 & 1056891-03-161 & 329140 & Imperial Parking (Us) Llc & Impark 0356 & $\\dots$ \\\\\n",
       "\t29 & 1056897-03-161 & 329140 & Imperial Parking (Us) Llc & Impark 0364 & $\\dots$ \\\\\n",
       "\t30 & 1056898-03-161 & 329140 & Imperial Parking (Us) Llc & Impark 0365 & $\\dots$ \\\\\n",
       "\t$\\dots$ & $\\dots$ & $\\dots$ & $\\dots$ & $\\dots$ &  \\\\\n",
       "\\end{tabular}\n"
      ],
      "text/plain": [
       "\u001b[1m1097×26 DataFrame\u001b[0m\n",
       "\u001b[1m  Row \u001b[0m│\u001b[1m Location_Id    \u001b[0m\u001b[1m Business_Account_Number \u001b[0m\u001b[1m Ownership_Name               \u001b[0m ⋯\n",
       "\u001b[1m      \u001b[0m│\u001b[90m String         \u001b[0m\u001b[90m Int64                   \u001b[0m\u001b[90m String                       \u001b[0m ⋯\n",
       "──────┼─────────────────────────────────────────────────────────────────────────\n",
       "    1 │ 1173734-12-171                  1081206  Test 12/28/2017               ⋯\n",
       "    2 │ 0331622-05-001                   331622  Douglas Parking Llc\n",
       "    3 │ 0331622-07-001                   331622  Douglas Parking Llc\n",
       "    4 │ 1003077-07-141                   331622  Douglas Parking Llc\n",
       "    5 │ 1059531-03-161                  1009459  Volume Parking Services Inc   ⋯\n",
       "    6 │ 1099910-08-161                   331622  Douglas Parking Llc\n",
       "    7 │ 1138241-02-171                   331622  Douglas Parking Llc\n",
       "    8 │ 1173943-12-171                   433156  Hyde Park Management Llc\n",
       "    9 │ 1003009-07-141                   329140  Imperial Parking (Us) Llc     ⋯\n",
       "   10 │ 1003010-07-141                   329140  Imperial Parking (Us) Llc\n",
       "   11 │ 1056407-02-161                   329140  Imperial Parking (Us) Llc\n",
       "  ⋮   │       ⋮                    ⋮                           ⋮               ⋱\n",
       " 1088 │ 1013757-12-141                   461521  Abm Onsite Services-West Inc\n",
       " 1089 │ 1149238-06-171                   347331  Propark America West Llc      ⋯\n",
       " 1090 │ 1013889-12-141                   461521  Abm Onsite Services-West Inc\n",
       " 1091 │ 1029476-05-151                  1014039  Gaetani Real Estate\n",
       " 1092 │ 1013797-12-141                   461521  Abm Onsite Services-West Inc\n",
       " 1093 │ 1013798-12-141                   461521  Abm Onsite Services-West Inc  ⋯\n",
       " 1094 │ 1013799-12-141                   461521  Abm Onsite Services-West Inc\n",
       " 1095 │ 1018695-02-151                   105437  255 Steiner Llc\n",
       " 1096 │ 1118609-09-161                   446177  Laz Parking California Llc\n",
       " 1097 │ 1136748-02-171                   347331  Propark America West Llc      ⋯\n",
       "\u001b[36m                                                24 columns and 1076 rows omitted\u001b[0m"
      ]
     },
     "execution_count": 9,
     "metadata": {},
     "output_type": "execute_result"
    }
   ],
   "source": [
    "@from i in df begin\n",
    "\t@where i.Parking_Tax == true\n",
    "\t@select i\n",
    "\t@collect DataFrame\n",
    "end"
   ]
  },
  {
   "cell_type": "code",
   "execution_count": 10,
   "metadata": {},
   "outputs": [
    {
     "data": {
      "text/plain": [
       ":(x = 2)"
      ]
     },
     "execution_count": 10,
     "metadata": {},
     "output_type": "execute_result"
    }
   ],
   "source": [
    "assign = :(x = 2)"
   ]
  },
  {
   "cell_type": "code",
   "execution_count": 11,
   "metadata": {},
   "outputs": [
    {
     "data": {
      "text/plain": [
       "2"
      ]
     },
     "execution_count": 11,
     "metadata": {},
     "output_type": "execute_result"
    }
   ],
   "source": [
    "eval(assign)"
   ]
  },
  {
   "cell_type": "code",
   "execution_count": 12,
   "metadata": {},
   "outputs": [
    {
     "data": {
      "text/plain": [
       "2"
      ]
     },
     "execution_count": 12,
     "metadata": {},
     "output_type": "execute_result"
    }
   ],
   "source": [
    "x"
   ]
  },
  {
   "cell_type": "code",
   "execution_count": 13,
   "metadata": {},
   "outputs": [
    {
     "data": {
      "text/plain": [
       "(:head, :args)"
      ]
     },
     "execution_count": 13,
     "metadata": {},
     "output_type": "execute_result"
    }
   ],
   "source": [
    "fieldnames(typeof(assign))"
   ]
  },
  {
   "cell_type": "code",
   "execution_count": 14,
   "metadata": {},
   "outputs": [
    {
     "name": "stdout",
     "output_type": "stream",
     "text": [
      "Expr\n",
      "  head: Symbol =\n",
      "  args: Array{Any}((2,))\n",
      "    1: Symbol x\n",
      "    2: Int64 2\n"
     ]
    }
   ],
   "source": [
    "dump(assign)"
   ]
  },
  {
   "cell_type": "code",
   "execution_count": 15,
   "metadata": {},
   "outputs": [
    {
     "data": {
      "text/plain": [
       "3"
      ]
     },
     "execution_count": 15,
     "metadata": {},
     "output_type": "execute_result"
    }
   ],
   "source": [
    "assign.args[2] = 3"
   ]
  },
  {
   "cell_type": "code",
   "execution_count": 16,
   "metadata": {},
   "outputs": [
    {
     "data": {
      "text/plain": [
       "3"
      ]
     },
     "execution_count": 16,
     "metadata": {},
     "output_type": "execute_result"
    }
   ],
   "source": [
    "eval(assign)"
   ]
  },
  {
   "cell_type": "code",
   "execution_count": 17,
   "metadata": {},
   "outputs": [
    {
     "data": {
      "text/plain": [
       "3"
      ]
     },
     "execution_count": 17,
     "metadata": {},
     "output_type": "execute_result"
    }
   ],
   "source": [
    "x"
   ]
  },
  {
   "cell_type": "code",
   "execution_count": 18,
   "metadata": {},
   "outputs": [
    {
     "data": {
      "text/plain": [
       ":(x = 4)"
      ]
     },
     "execution_count": 18,
     "metadata": {},
     "output_type": "execute_result"
    }
   ],
   "source": [
    "assign4 = Expr(:(=), :x, 4)"
   ]
  },
  {
   "cell_type": "code",
   "execution_count": 19,
   "metadata": {},
   "outputs": [
    {
     "data": {
      "text/plain": [
       "4"
      ]
     },
     "execution_count": 19,
     "metadata": {},
     "output_type": "execute_result"
    }
   ],
   "source": [
    "eval(assign4)"
   ]
  },
  {
   "cell_type": "code",
   "execution_count": 20,
   "metadata": {},
   "outputs": [
    {
     "data": {
      "text/plain": [
       "4"
      ]
     },
     "execution_count": 20,
     "metadata": {},
     "output_type": "execute_result"
    }
   ],
   "source": [
    "x"
   ]
  },
  {
   "cell_type": "code",
   "execution_count": 21,
   "metadata": {},
   "outputs": [
    {
     "data": {
      "text/plain": [
       "quote\n",
       "    #= In[21]:2 =#\n",
       "    y = 42\n",
       "    #= In[21]:3 =#\n",
       "    x = 10\n",
       "end"
      ]
     },
     "execution_count": 21,
     "metadata": {},
     "output_type": "execute_result"
    }
   ],
   "source": [
    "quote\n",
    "\ty = 42\n",
    "\tx = 10\n",
    "end"
   ]
  },
  {
   "cell_type": "code",
   "execution_count": 22,
   "metadata": {},
   "outputs": [
    {
     "data": {
      "text/plain": [
       "10"
      ]
     },
     "execution_count": 22,
     "metadata": {},
     "output_type": "execute_result"
    }
   ],
   "source": [
    "eval(ans)"
   ]
  },
  {
   "cell_type": "code",
   "execution_count": 23,
   "metadata": {},
   "outputs": [
    {
     "data": {
      "text/plain": [
       "42"
      ]
     },
     "execution_count": 23,
     "metadata": {},
     "output_type": "execute_result"
    }
   ],
   "source": [
    "y"
   ]
  },
  {
   "cell_type": "code",
   "execution_count": 24,
   "metadata": {},
   "outputs": [
    {
     "data": {
      "text/plain": [
       "10"
      ]
     },
     "execution_count": 24,
     "metadata": {},
     "output_type": "execute_result"
    }
   ],
   "source": [
    "x"
   ]
  },
  {
   "cell_type": "code",
   "execution_count": 25,
   "metadata": {},
   "outputs": [
    {
     "data": {
      "text/plain": [
       "\"Dan\""
      ]
     },
     "execution_count": 25,
     "metadata": {},
     "output_type": "execute_result"
    }
   ],
   "source": [
    "name = \"Dan\""
   ]
  },
  {
   "cell_type": "code",
   "execution_count": 26,
   "metadata": {},
   "outputs": [
    {
     "data": {
      "text/plain": [
       ":(\"Hello \" * \"Dan\")"
      ]
     },
     "execution_count": 26,
     "metadata": {},
     "output_type": "execute_result"
    }
   ],
   "source": [
    "greet = :(\"Hello \" * $name)"
   ]
  },
  {
   "cell_type": "code",
   "execution_count": 27,
   "metadata": {},
   "outputs": [
    {
     "data": {
      "text/plain": [
       "\"Hello Dan\""
      ]
     },
     "execution_count": 27,
     "metadata": {},
     "output_type": "execute_result"
    }
   ],
   "source": [
    "eval(greet)"
   ]
  },
  {
   "cell_type": "code",
   "execution_count": 28,
   "metadata": {},
   "outputs": [
    {
     "data": {
      "text/plain": [
       "@greet (macro with 1 method)"
      ]
     },
     "execution_count": 28,
     "metadata": {},
     "output_type": "execute_result"
    }
   ],
   "source": [
    "macro greet(name)\n",
    "    :(\"Hello \" * $name)\n",
    "end"
   ]
  },
  {
   "cell_type": "code",
   "execution_count": 29,
   "metadata": {},
   "outputs": [
    {
     "data": {
      "text/plain": [
       "\"Hello Adrian\""
      ]
     },
     "execution_count": 29,
     "metadata": {},
     "output_type": "execute_result"
    }
   ],
   "source": [
    "@greet(\"Adrian\")"
   ]
  },
  {
   "cell_type": "code",
   "execution_count": 30,
   "metadata": {},
   "outputs": [
    {
     "data": {
      "text/plain": [
       "\"Hello Julia\""
      ]
     },
     "execution_count": 30,
     "metadata": {},
     "output_type": "execute_result"
    }
   ],
   "source": [
    "@greet \"Julia\""
   ]
  },
  {
   "cell_type": "code",
   "execution_count": 31,
   "metadata": {},
   "outputs": [
    {
     "data": {
      "text/plain": [
       "@twostep (macro with 1 method)"
      ]
     },
     "execution_count": 31,
     "metadata": {},
     "output_type": "execute_result"
    }
   ],
   "source": [
    "macro twostep(arg)\n",
    "\tprintln(\"I execute at parse time. The argument is: \", arg)\n",
    "\treturn :(println(\"I execute at runtime. The argument is: \", $arg))\n",
    "end"
   ]
  },
  {
   "cell_type": "code",
   "execution_count": 32,
   "metadata": {},
   "outputs": [
    {
     "name": "stdout",
     "output_type": "stream",
     "text": [
      "I execute at parse time. The argument is: :((1, 2, 3))\n"
     ]
    }
   ],
   "source": [
    "ex = macroexpand(@__MODULE__, :(@twostep :(1, 2, 3)));"
   ]
  },
  {
   "cell_type": "code",
   "execution_count": 33,
   "metadata": {},
   "outputs": [
    {
     "name": "stdout",
     "output_type": "stream",
     "text": [
      "I execute at runtime. The argument is: (1, 2, 3)\n"
     ]
    }
   ],
   "source": [
    "eval(ex)"
   ]
  },
  {
   "cell_type": "code",
   "execution_count": 34,
   "metadata": {},
   "outputs": [
    {
     "data": {
      "text/html": [
       "<table class=\"data-frame\"><thead><tr><th></th><th>produce</th><th>qty</th></tr><tr><th></th><th>String</th><th>Int64</th></tr></thead><tbody><p>3 rows × 2 columns</p><tr><th>1</th><td>Apples</td><td>5</td></tr><tr><th>2</th><td>Milk</td><td>2</td></tr><tr><th>3</th><td>Bread</td><td>1</td></tr></tbody></table>"
      ],
      "text/latex": [
       "\\begin{tabular}{r|cc}\n",
       "\t& produce & qty\\\\\n",
       "\t\\hline\n",
       "\t& String & Int64\\\\\n",
       "\t\\hline\n",
       "\t1 & Apples & 5 \\\\\n",
       "\t2 & Milk & 2 \\\\\n",
       "\t3 & Bread & 1 \\\\\n",
       "\\end{tabular}\n"
      ],
      "text/plain": [
       "\u001b[1m3×2 DataFrame\u001b[0m\n",
       "\u001b[1m Row \u001b[0m│\u001b[1m produce \u001b[0m\u001b[1m qty   \u001b[0m\n",
       "\u001b[1m     \u001b[0m│\u001b[90m String  \u001b[0m\u001b[90m Int64 \u001b[0m\n",
       "─────┼────────────────\n",
       "   1 │ Apples       5\n",
       "   2 │ Milk         2\n",
       "   3 │ Bread        1"
      ]
     },
     "execution_count": 34,
     "metadata": {},
     "output_type": "execute_result"
    }
   ],
   "source": [
    "shopping_list = DataFrame(produce=[\"Apples\", \"Milk\", \"Bread\"], qty=[5, 2, 1])"
   ]
  },
  {
   "cell_type": "code",
   "execution_count": 35,
   "metadata": {},
   "outputs": [
    {
     "data": {
      "application/vnd.dataresource+json": {
       "data": [
        {
         "produce": "Apples",
         "qty": 5
        },
        {
         "produce": "Milk",
         "qty": 2
        },
        {
         "produce": "Bread",
         "qty": 1
        }
       ],
       "schema": {
        "fields": [
         {
          "name": "produce",
          "type": "string"
         },
         {
          "name": "qty",
          "type": "integer"
         }
        ]
       }
      },
      "text/html": [
       "<table><thead><tr><th>produce</th><th>qty</th></tr></thead><tbody><tr><td>&quot;Apples&quot;</td><td>5</td></tr><tr><td>&quot;Milk&quot;</td><td>2</td></tr><tr><td>&quot;Bread&quot;</td><td>1</td></tr></tbody></table>"
      ],
      "text/plain": [
       "3x2 query result\n",
       "produce │ qty\n",
       "────────┼────\n",
       "Apples  │ 5  \n",
       "Milk    │ 2  \n",
       "Bread   │ 1  "
      ]
     },
     "execution_count": 35,
     "metadata": {},
     "output_type": "execute_result"
    }
   ],
   "source": [
    "@from p in shopping_list begin\n",
    "    @select p\n",
    "end"
   ]
  },
  {
   "cell_type": "code",
   "execution_count": 36,
   "metadata": {},
   "outputs": [
    {
     "data": {
      "text/plain": [
       "3-element query result\n",
       " \"Apples\"\n",
       " \"Milk\"\n",
       " \"Bread\""
      ]
     },
     "execution_count": 36,
     "metadata": {},
     "output_type": "execute_result"
    }
   ],
   "source": [
    "@from p in shopping_list begin\n",
    "    @select p.produce\n",
    "end"
   ]
  },
  {
   "cell_type": "code",
   "execution_count": 37,
   "metadata": {},
   "outputs": [
    {
     "data": {
      "text/plain": [
       "3-element query result\n",
       " \"Apples\"\n",
       " \"Milk\"\n",
       " \"Bread\""
      ]
     },
     "execution_count": 37,
     "metadata": {},
     "output_type": "execute_result"
    }
   ],
   "source": [
    "@from p in shopping_list begin\n",
    "\t@select p.produce\n",
    "end"
   ]
  },
  {
   "cell_type": "code",
   "execution_count": 38,
   "metadata": {},
   "outputs": [
    {
     "data": {
      "text/plain": [
       "3-element query result\n",
       " (\"APPLES\", 10)\n",
       " (\"MILK\", 4)\n",
       " (\"BREAD\", 2)"
      ]
     },
     "execution_count": 38,
     "metadata": {},
     "output_type": "execute_result"
    }
   ],
   "source": [
    "@from p in shopping_list begin\n",
    "\t@select uppercase(p.produce), 2p.qty\n",
    "end"
   ]
  },
  {
   "cell_type": "code",
   "execution_count": 39,
   "metadata": {},
   "outputs": [
    {
     "data": {
      "application/vnd.dataresource+json": {
       "data": [
        {
         "produce": "APPLES",
         "qty": 10
        },
        {
         "produce": "MILK",
         "qty": 4
        },
        {
         "produce": "BREAD",
         "qty": 2
        }
       ],
       "schema": {
        "fields": [
         {
          "name": "produce",
          "type": "string"
         },
         {
          "name": "qty",
          "type": "integer"
         }
        ]
       }
      },
      "text/html": [
       "<table><thead><tr><th>produce</th><th>qty</th></tr></thead><tbody><tr><td>&quot;APPLES&quot;</td><td>10</td></tr><tr><td>&quot;MILK&quot;</td><td>4</td></tr><tr><td>&quot;BREAD&quot;</td><td>2</td></tr></tbody></table>"
      ],
      "text/plain": [
       "3x2 query result\n",
       "produce │ qty\n",
       "────────┼────\n",
       "APPLES  │ 10 \n",
       "MILK    │ 4  \n",
       "BREAD   │ 2  "
      ]
     },
     "execution_count": 39,
     "metadata": {},
     "output_type": "execute_result"
    }
   ],
   "source": [
    "@from p in shopping_list begin\n",
    "    @select { produce = uppercase(p.produce), qty = 2p.qty }\n",
    "end"
   ]
  },
  {
   "cell_type": "code",
   "execution_count": 40,
   "metadata": {},
   "outputs": [
    {
     "data": {
      "text/plain": [
       "3-element Vector{NamedTuple{(:PRODUCE, :double_qty), Tuple{String, Int64}}}:\n",
       " (PRODUCE = \"APPLES\", double_qty = 10)\n",
       " (PRODUCE = \"MILK\", double_qty = 4)\n",
       " (PRODUCE = \"BREAD\", double_qty = 2)"
      ]
     },
     "execution_count": 40,
     "metadata": {},
     "output_type": "execute_result"
    }
   ],
   "source": [
    "@from p in shopping_list begin\n",
    "    @select { PRODUCE = uppercase(p.produce), double_qty = 2p.qty }\n",
    "    @collect\n",
    "end"
   ]
  },
  {
   "cell_type": "code",
   "execution_count": 41,
   "metadata": {},
   "outputs": [
    {
     "data": {
      "text/html": [
       "<table class=\"data-frame\"><thead><tr><th></th><th>PRODUCE</th><th>double_qty</th></tr><tr><th></th><th>String</th><th>Int64</th></tr></thead><tbody><p>3 rows × 2 columns</p><tr><th>1</th><td>APPLES</td><td>10</td></tr><tr><th>2</th><td>MILK</td><td>4</td></tr><tr><th>3</th><td>BREAD</td><td>2</td></tr></tbody></table>"
      ],
      "text/latex": [
       "\\begin{tabular}{r|cc}\n",
       "\t& PRODUCE & double\\_qty\\\\\n",
       "\t\\hline\n",
       "\t& String & Int64\\\\\n",
       "\t\\hline\n",
       "\t1 & APPLES & 10 \\\\\n",
       "\t2 & MILK & 4 \\\\\n",
       "\t3 & BREAD & 2 \\\\\n",
       "\\end{tabular}\n"
      ],
      "text/plain": [
       "\u001b[1m3×2 DataFrame\u001b[0m\n",
       "\u001b[1m Row \u001b[0m│\u001b[1m PRODUCE \u001b[0m\u001b[1m double_qty \u001b[0m\n",
       "\u001b[1m     \u001b[0m│\u001b[90m String  \u001b[0m\u001b[90m Int64      \u001b[0m\n",
       "─────┼─────────────────────\n",
       "   1 │ APPLES           10\n",
       "   2 │ MILK              4\n",
       "   3 │ BREAD             2"
      ]
     },
     "execution_count": 41,
     "metadata": {},
     "output_type": "execute_result"
    }
   ],
   "source": [
    "@from p in shopping_list begin\n",
    "    @select {PRODUCE = uppercase(p.produce), double_qty = 2p.qty}\n",
    "    @collect DataFrame\n",
    "end"
   ]
  },
  {
   "cell_type": "code",
   "execution_count": 42,
   "metadata": {},
   "outputs": [
    {
     "data": {
      "text/html": [
       "<table class=\"data-frame\"><thead><tr><th></th><th>produce</th><th>qty</th></tr><tr><th></th><th>String</th><th>Int64</th></tr></thead><tbody><p>1 rows × 2 columns</p><tr><th>1</th><td>Bread</td><td>1</td></tr></tbody></table>"
      ],
      "text/latex": [
       "\\begin{tabular}{r|cc}\n",
       "\t& produce & qty\\\\\n",
       "\t\\hline\n",
       "\t& String & Int64\\\\\n",
       "\t\\hline\n",
       "\t1 & Bread & 1 \\\\\n",
       "\\end{tabular}\n"
      ],
      "text/plain": [
       "\u001b[1m1×2 DataFrame\u001b[0m\n",
       "\u001b[1m Row \u001b[0m│\u001b[1m produce \u001b[0m\u001b[1m qty   \u001b[0m\n",
       "\u001b[1m     \u001b[0m│\u001b[90m String  \u001b[0m\u001b[90m Int64 \u001b[0m\n",
       "─────┼────────────────\n",
       "   1 │ Bread        1"
      ]
     },
     "execution_count": 42,
     "metadata": {},
     "output_type": "execute_result"
    }
   ],
   "source": [
    "@from p in shopping_list begin\n",
    "    @where p.qty < 2\n",
    "    @select p\n",
    "    @collect DataFrame\n",
    "end"
   ]
  },
  {
   "cell_type": "code",
   "execution_count": 43,
   "metadata": {},
   "outputs": [
    {
     "data": {
      "text/html": [
       "<table class=\"data-frame\"><thead><tr><th></th><th>produce</th><th>week_qty</th></tr><tr><th></th><th>String</th><th>Int64</th></tr></thead><tbody><p>2 rows × 2 columns</p><tr><th>1</th><td>Apples</td><td>35</td></tr><tr><th>2</th><td>Milk</td><td>14</td></tr></tbody></table>"
      ],
      "text/latex": [
       "\\begin{tabular}{r|cc}\n",
       "\t& produce & week\\_qty\\\\\n",
       "\t\\hline\n",
       "\t& String & Int64\\\\\n",
       "\t\\hline\n",
       "\t1 & Apples & 35 \\\\\n",
       "\t2 & Milk & 14 \\\\\n",
       "\\end{tabular}\n"
      ],
      "text/plain": [
       "\u001b[1m2×2 DataFrame\u001b[0m\n",
       "\u001b[1m Row \u001b[0m│\u001b[1m produce \u001b[0m\u001b[1m week_qty \u001b[0m\n",
       "\u001b[1m     \u001b[0m│\u001b[90m String  \u001b[0m\u001b[90m Int64    \u001b[0m\n",
       "─────┼───────────────────\n",
       "   1 │ Apples         35\n",
       "   2 │ Milk           14"
      ]
     },
     "execution_count": 43,
     "metadata": {},
     "output_type": "execute_result"
    }
   ],
   "source": [
    "@from p in shopping_list begin\n",
    "    @let weekly_qty = 7p.qty\n",
    "    @where weekly_qty > 10\n",
    "    @select { p.produce, week_qty=weekly_qty }\n",
    "    @collect DataFrame\n",
    "end"
   ]
  },
  {
   "cell_type": "code",
   "execution_count": 44,
   "metadata": {},
   "outputs": [
    {
     "data": {
      "text/html": [
       "<table class=\"data-frame\"><thead><tr><th></th><th>produce</th><th>price</th><th>allergenic</th></tr><tr><th></th><th>String</th><th>Float64</th><th>Bool</th></tr></thead><tbody><p>3 rows × 3 columns</p><tr><th>1</th><td>Apples</td><td>2.2</td><td>0</td></tr><tr><th>2</th><td>Milk</td><td>0.45</td><td>1</td></tr><tr><th>3</th><td>Bread</td><td>0.79</td><td>1</td></tr></tbody></table>"
      ],
      "text/latex": [
       "\\begin{tabular}{r|ccc}\n",
       "\t& produce & price & allergenic\\\\\n",
       "\t\\hline\n",
       "\t& String & Float64 & Bool\\\\\n",
       "\t\\hline\n",
       "\t1 & Apples & 2.2 & 0 \\\\\n",
       "\t2 & Milk & 0.45 & 1 \\\\\n",
       "\t3 & Bread & 0.79 & 1 \\\\\n",
       "\\end{tabular}\n"
      ],
      "text/plain": [
       "\u001b[1m3×3 DataFrame\u001b[0m\n",
       "\u001b[1m Row \u001b[0m│\u001b[1m produce \u001b[0m\u001b[1m price   \u001b[0m\u001b[1m allergenic \u001b[0m\n",
       "\u001b[1m     \u001b[0m│\u001b[90m String  \u001b[0m\u001b[90m Float64 \u001b[0m\u001b[90m Bool       \u001b[0m\n",
       "─────┼──────────────────────────────\n",
       "   1 │ Apples      2.2        false\n",
       "   2 │ Milk        0.45        true\n",
       "   3 │ Bread       0.79        true"
      ]
     },
     "execution_count": 44,
     "metadata": {},
     "output_type": "execute_result"
    }
   ],
   "source": [
    "products_info = DataFrame(produce = [\"Apples\", \"Milk\", \"Bread\"], price = [2.20, 0.45, 0.79], allergenic = [false, true, true])"
   ]
  },
  {
   "cell_type": "code",
   "execution_count": 45,
   "metadata": {},
   "outputs": [
    {
     "data": {
      "text/html": [
       "<table class=\"data-frame\"><thead><tr><th></th><th>produce</th><th>qty</th><th>price</th><th>allergenic</th></tr><tr><th></th><th>String</th><th>Int64</th><th>Float64</th><th>Bool</th></tr></thead><tbody><p>3 rows × 4 columns</p><tr><th>1</th><td>Apples</td><td>5</td><td>2.2</td><td>0</td></tr><tr><th>2</th><td>Milk</td><td>2</td><td>0.45</td><td>1</td></tr><tr><th>3</th><td>Bread</td><td>1</td><td>0.79</td><td>1</td></tr></tbody></table>"
      ],
      "text/latex": [
       "\\begin{tabular}{r|cccc}\n",
       "\t& produce & qty & price & allergenic\\\\\n",
       "\t\\hline\n",
       "\t& String & Int64 & Float64 & Bool\\\\\n",
       "\t\\hline\n",
       "\t1 & Apples & 5 & 2.2 & 0 \\\\\n",
       "\t2 & Milk & 2 & 0.45 & 1 \\\\\n",
       "\t3 & Bread & 1 & 0.79 & 1 \\\\\n",
       "\\end{tabular}\n"
      ],
      "text/plain": [
       "\u001b[1m3×4 DataFrame\u001b[0m\n",
       "\u001b[1m Row \u001b[0m│\u001b[1m produce \u001b[0m\u001b[1m qty   \u001b[0m\u001b[1m price   \u001b[0m\u001b[1m allergenic \u001b[0m\n",
       "\u001b[1m     \u001b[0m│\u001b[90m String  \u001b[0m\u001b[90m Int64 \u001b[0m\u001b[90m Float64 \u001b[0m\u001b[90m Bool       \u001b[0m\n",
       "─────┼─────────────────────────────────────\n",
       "   1 │ Apples       5     2.2        false\n",
       "   2 │ Milk         2     0.45        true\n",
       "   3 │ Bread        1     0.79        true"
      ]
     },
     "execution_count": 45,
     "metadata": {},
     "output_type": "execute_result"
    }
   ],
   "source": [
    "shopping_info = @from p in shopping_list begin\n",
    "\t@join pinfo in products_info on p.produce equals pinfo.produce\n",
    "\t@select { p.produce, p.qty, pinfo.price, pinfo.allergenic }\n",
    "\t@collect DataFrame\n",
    "end"
   ]
  },
  {
   "cell_type": "code",
   "execution_count": 46,
   "metadata": {},
   "outputs": [
    {
     "data": {
      "text/plain": [
       "2-element Vector{Grouping{Bool, String}}:\n",
       " [\"Apples\"]\n",
       " [\"Milk\", \"Bread\"]"
      ]
     },
     "execution_count": 46,
     "metadata": {},
     "output_type": "execute_result"
    }
   ],
   "source": [
    "@from p in shopping_info begin\n",
    "    @group p.produce by p.allergenic\n",
    "    @collect\n",
    "end"
   ]
  },
  {
   "cell_type": "code",
   "execution_count": 47,
   "metadata": {},
   "outputs": [
    {
     "data": {
      "text/html": [
       "<table class=\"data-frame\"><thead><tr><th></th><th>allergenic</th><th>count</th><th>produce</th></tr><tr><th></th><th>Bool</th><th>Int64</th><th>String</th></tr></thead><tbody><p>2 rows × 3 columns</p><tr><th>1</th><td>0</td><td>1</td><td>Apples</td></tr><tr><th>2</th><td>1</td><td>2</td><td>Milk, Bread</td></tr></tbody></table>"
      ],
      "text/latex": [
       "\\begin{tabular}{r|ccc}\n",
       "\t& allergenic & count & produce\\\\\n",
       "\t\\hline\n",
       "\t& Bool & Int64 & String\\\\\n",
       "\t\\hline\n",
       "\t1 & 0 & 1 & Apples \\\\\n",
       "\t2 & 1 & 2 & Milk, Bread \\\\\n",
       "\\end{tabular}\n"
      ],
      "text/plain": [
       "\u001b[1m2×3 DataFrame\u001b[0m\n",
       "\u001b[1m Row \u001b[0m│\u001b[1m allergenic \u001b[0m\u001b[1m count \u001b[0m\u001b[1m produce     \u001b[0m\n",
       "\u001b[1m     \u001b[0m│\u001b[90m Bool       \u001b[0m\u001b[90m Int64 \u001b[0m\u001b[90m String      \u001b[0m\n",
       "─────┼────────────────────────────────\n",
       "   1 │      false      1  Apples\n",
       "   2 │       true      2  Milk, Bread"
      ]
     },
     "execution_count": 47,
     "metadata": {},
     "output_type": "execute_result"
    }
   ],
   "source": [
    "@from p in shopping_info begin\n",
    "   @group p by p.allergenic into q\n",
    "   @select { allergenic = key(q), count = length(q.allergenic), produce = join(q.produce, \", \") }\n",
    "   @collect DataFrame\n",
    "end"
   ]
  },
  {
   "cell_type": "code",
   "execution_count": 48,
   "metadata": {
    "scrolled": false
   },
   "outputs": [
    {
     "data": {
      "text/html": [
       "<table class=\"data-frame\"><thead><tr><th></th><th>produce</th><th>price</th><th>allergenic</th></tr><tr><th></th><th>String</th><th>Float64</th><th>Bool</th></tr></thead><tbody><p>3 rows × 3 columns</p><tr><th>1</th><td>Apples</td><td>2.2</td><td>0</td></tr><tr><th>2</th><td>Bread</td><td>0.79</td><td>1</td></tr><tr><th>3</th><td>Milk</td><td>0.45</td><td>1</td></tr></tbody></table>"
      ],
      "text/latex": [
       "\\begin{tabular}{r|ccc}\n",
       "\t& produce & price & allergenic\\\\\n",
       "\t\\hline\n",
       "\t& String & Float64 & Bool\\\\\n",
       "\t\\hline\n",
       "\t1 & Apples & 2.2 & 0 \\\\\n",
       "\t2 & Bread & 0.79 & 1 \\\\\n",
       "\t3 & Milk & 0.45 & 1 \\\\\n",
       "\\end{tabular}\n"
      ],
      "text/plain": [
       "\u001b[1m3×3 DataFrame\u001b[0m\n",
       "\u001b[1m Row \u001b[0m│\u001b[1m produce \u001b[0m\u001b[1m price   \u001b[0m\u001b[1m allergenic \u001b[0m\n",
       "\u001b[1m     \u001b[0m│\u001b[90m String  \u001b[0m\u001b[90m Float64 \u001b[0m\u001b[90m Bool       \u001b[0m\n",
       "─────┼──────────────────────────────\n",
       "   1 │ Apples      2.2        false\n",
       "   2 │ Bread       0.79        true\n",
       "   3 │ Milk        0.45        true"
      ]
     },
     "execution_count": 48,
     "metadata": {},
     "output_type": "execute_result"
    }
   ],
   "source": [
    "@from p in products_info begin\n",
    "    @orderby descending(p.price), p.produce\n",
    "    @select p\n",
    "    @collect DataFrame\n",
    "end"
   ]
  },
  {
   "cell_type": "code",
   "execution_count": 49,
   "metadata": {},
   "outputs": [
    {
     "ename": "LoadError",
     "evalue": "LoadError: UndefVarError: @pkg_str not defined\nin expression starting at In[49]:1",
     "output_type": "error",
     "traceback": [
      "LoadError: UndefVarError: @pkg_str not defined\nin expression starting at In[49]:1",
      "",
      "Stacktrace:",
      " [1] top-level scope",
      "   @ :0",
      " [2] eval",
      "   @ ./boot.jl:360 [inlined]",
      " [3] include_string(mapexpr::typeof(REPL.softscope), mod::Module, code::String, filename::String)",
      "   @ Base ./loading.jl:1094"
     ]
    }
   ],
   "source": [
    "pkg\"add DataValues\"\n",
    "using DataValues"
   ]
  },
  {
   "cell_type": "code",
   "execution_count": null,
   "metadata": {},
   "outputs": [],
   "source": [
    "clean_df = @from b in df begin\n",
    "        @where lowercase(b.City) == \"san francisco\" && b.State == \"CA\" && \n",
    "            ! isna(b.Street_Address) && ! isna(b.Source_Zipcode) && \n",
    "            ! isna(b.NAICS_Code) && ! isna(b.NAICS_Code_Description) && \n",
    "            ! isna(b.Business_Location) && \n",
    "            occursin(r\"\\((.*), (.*)\\)\", get(b.Business_Location)) && \n",
    "            isna(b.Business_End_Date) && isna(b.Location_End_Date)\n",
    "    @select { b.DBA_Name, b.Source_Zipcode, b.NAICS_Code, b.NAICS_Code_Description, b.Business_Location }\n",
    "    @collect DataFrame\n",
    "end"
   ]
  },
  {
   "cell_type": "code",
   "execution_count": null,
   "metadata": {},
   "outputs": [],
   "source": [
    "clean_df_geo = @from b in clean_df begin\n",
    "    @let geo  = split(match(r\"(\\-?\\d+(\\.\\d+)?),\\s*(\\-?\\d+(\\.\\d+)?)\", get(b.Business_Location)).match, \", \")\n",
    "    @select {b.DBA_Name, b.Source_Zipcode, b.NAICS_Code, b.NAICS_Code_Description, lat = parse(Float64, geo[1]), long = parse(Float64, geo[2])}\n",
    "    @collect DataFrame\n",
    "end"
   ]
  },
  {
   "cell_type": "code",
   "execution_count": null,
   "metadata": {},
   "outputs": [],
   "source": [
    "describe(clean_df_geo)"
   ]
  },
  {
   "cell_type": "code",
   "execution_count": null,
   "metadata": {},
   "outputs": [],
   "source": [
    "unique(clean_df_geo[:, :Source_Zipcode]) |> length"
   ]
  },
  {
   "cell_type": "code",
   "execution_count": null,
   "metadata": {},
   "outputs": [],
   "source": [
    "using Pkg\n",
    "pkg\"add Clustering\"\n",
    "using Clustering"
   ]
  },
  {
   "cell_type": "code",
   "execution_count": null,
   "metadata": {},
   "outputs": [],
   "source": [
    "using CSV, DataFrames, Query\n",
    "clean_df_geo = CSV.read(\"clean_df_geo.tsv\", delim = '\\t', nullable = false)"
   ]
  },
  {
   "cell_type": "code",
   "execution_count": null,
   "metadata": {},
   "outputs": [],
   "source": [
    "model_data = @from b in clean_df_geo begin\n",
    "\t@group b by b.Source_Zipcode into g\n",
    "\t@let bcount = Float64(length(g))\n",
    "\t@orderby descending(bcount)\n",
    "\t@select { zipcode = Float64(get(key(g))), businesses_count = bcount }\n",
    "\t@collect DataFrame\n",
    "end"
   ]
  },
  {
   "cell_type": "code",
   "execution_count": null,
   "metadata": {},
   "outputs": [],
   "source": [
    "tail(model_data)"
   ]
  },
  {
   "cell_type": "code",
   "execution_count": null,
   "metadata": {},
   "outputs": [],
   "source": [
    "using Gadfly"
   ]
  },
  {
   "cell_type": "code",
   "execution_count": null,
   "metadata": {},
   "outputs": [],
   "source": [
    "plot(model_data, x=:businesses_count, Geom.histogram)"
   ]
  },
  {
   "cell_type": "code",
   "execution_count": null,
   "metadata": {},
   "outputs": [],
   "source": [
    "model_data = @from b in clean_df_geo begin\n",
    "\t@group b by b.Source_Zipcode into g\n",
    "\t@let bcount = Float64(length(g))\n",
    "    @where bcount > 10\n",
    "\t@orderby descending(bcount)\n",
    "\t@select { zipcode = Float64(get(key(g))), businesses_count = bcount }\n",
    "\t@collect DataFrame\n",
    "end"
   ]
  },
  {
   "cell_type": "code",
   "execution_count": null,
   "metadata": {},
   "outputs": [],
   "source": [
    "training_data = permutedims(convert(Array, model_data), [2, 1])"
   ]
  },
  {
   "cell_type": "code",
   "execution_count": null,
   "metadata": {},
   "outputs": [],
   "source": [
    "result = kmeans(training_data, 3, init=:kmpp, display=:iter)"
   ]
  },
  {
   "cell_type": "code",
   "execution_count": null,
   "metadata": {},
   "outputs": [],
   "source": [
    "result.assignments"
   ]
  },
  {
   "cell_type": "code",
   "execution_count": null,
   "metadata": {},
   "outputs": [],
   "source": [
    "model_data[:cluster_id] = result.assignments"
   ]
  },
  {
   "cell_type": "code",
   "execution_count": null,
   "metadata": {
    "scrolled": true
   },
   "outputs": [],
   "source": [
    "model_data"
   ]
  },
  {
   "cell_type": "code",
   "execution_count": null,
   "metadata": {},
   "outputs": [],
   "source": [
    "plot(model_data, y = :zipcode, x = :businesses_count, color = result.assignments, Geom.point, Scale.x_continuous(minvalue=0, maxvalue=5000), Scale.y_continuous(minvalue=94050, maxvalue=94200), Scale.x_continuous(format=:plain))"
   ]
  },
  {
   "cell_type": "code",
   "execution_count": null,
   "metadata": {},
   "outputs": [],
   "source": [
    "companies_in_top_areas = @from c in clean_df_geo begin\n",
    "    @where in(c.Source_Zipcode, [94110, 94103, 94109])\n",
    "    @select c\n",
    "    @collect DataFrame\n",
    "end"
   ]
  },
  {
   "cell_type": "code",
   "execution_count": null,
   "metadata": {},
   "outputs": [],
   "source": [
    "plot(companies_in_top_areas, y = :long, x = :lat, Geom.point, Scale.x_continuous(minvalue=36, maxvalue=40), Scale.y_continuous(minvalue=-125, maxvalue=-120), color=:Source_Zipcode)"
   ]
  },
  {
   "cell_type": "code",
   "execution_count": null,
   "metadata": {},
   "outputs": [],
   "source": [
    "companies_in_top_areas = @from c in companies_in_top_areas begin\n",
    "\t@where c.lat != minimum(companies_in_top_areas[:lat])\n",
    "\t@select c\n",
    "\t@collect DataFrame\n",
    "end"
   ]
  },
  {
   "cell_type": "code",
   "execution_count": null,
   "metadata": {},
   "outputs": [],
   "source": [
    "plot(companies_in_top_areas, y = :long, x = :lat, Geom.point, Scale.x_continuous(minvalue=36, maxvalue=40), Scale.y_continuous(minvalue=-125, maxvalue=-120), color=:Source_Zipcode)"
   ]
  },
  {
   "cell_type": "code",
   "execution_count": null,
   "metadata": {},
   "outputs": [],
   "source": [
    "activities = @from c in companies_in_top_areas begin\n",
    "\t@group c by c.NAICS_Code_Description into g\n",
    "\t@orderby descending(length(g))\n",
    "\t@select { activity = key(g), number_of_companies = length(g) }\n",
    "\t@collect DataFrame\n",
    "end"
   ]
  },
  {
   "cell_type": "code",
   "execution_count": null,
   "metadata": {},
   "outputs": [],
   "source": [
    "plot(activities, y=:number_of_companies, Geom.bar, color=:activity, Scale.y_continuous(format=:plain), Guide.XLabel(\"Activities\"), Guide.YLabel(\"Number of companies\"))"
   ]
  },
  {
   "cell_type": "code",
   "execution_count": null,
   "metadata": {},
   "outputs": [],
   "source": [
    "model_data = @from c in companies_in_top_areas begin\n",
    "\t@select { latitude = c.lat, longitude = c.long }\n",
    "\t@collect DataFrame\n",
    "end"
   ]
  },
  {
   "cell_type": "code",
   "execution_count": null,
   "metadata": {},
   "outputs": [],
   "source": [
    "training_data = permutedims(convert(Array{Float64}, model_data), [2, 1])"
   ]
  },
  {
   "cell_type": "code",
   "execution_count": null,
   "metadata": {},
   "outputs": [],
   "source": [
    "result = kmeans(training_data, 12, init=:kmpp, display=:iter)"
   ]
  },
  {
   "cell_type": "code",
   "execution_count": null,
   "metadata": {},
   "outputs": [],
   "source": [
    "result.counts"
   ]
  },
  {
   "cell_type": "code",
   "execution_count": null,
   "metadata": {},
   "outputs": [],
   "source": [
    "plot(result.counts, Geom.bar, y=result.counts, Guide.YLabel(\"Number of businesses\"), Guide.XLabel(\"Cluster ID\"), color=result.counts)"
   ]
  },
  {
   "cell_type": "code",
   "execution_count": null,
   "metadata": {},
   "outputs": [],
   "source": [
    "companies_in_top_areas[:cluster_id] = result.assignments"
   ]
  },
  {
   "cell_type": "code",
   "execution_count": null,
   "metadata": {},
   "outputs": [],
   "source": [
    "plot(companies_in_top_areas, color=:cluster_id, x=:lat, y=:long)"
   ]
  },
  {
   "cell_type": "code",
   "execution_count": null,
   "metadata": {},
   "outputs": [],
   "source": [
    "export_data = @from c in companies_in_top_areas begin\n",
    "                  @select { Name = c.DBA_Name, Zip = c.Source_Zipcode,\n",
    "                              Group = string(\"Cluster $(c.cluster_id)\"),\n",
    "                                Latitude = c.lat, Longitude = c.long, City = \"San Francisco\",\n",
    "                                   State = \"CA\" }\n",
    "                @collect DataFrame\n",
    "end"
   ]
  },
  {
   "cell_type": "code",
   "execution_count": null,
   "metadata": {},
   "outputs": [],
   "source": [
    "CSV.write(\"businesses.csv\", head(export_data, 250))"
   ]
  },
  {
   "cell_type": "code",
   "execution_count": null,
   "metadata": {},
   "outputs": [],
   "source": []
  }
 ],
 "metadata": {
  "kernelspec": {
   "display_name": "Julia 1.6.0",
   "language": "julia",
   "name": "julia-1.6"
  },
  "language_info": {
   "file_extension": ".jl",
   "mimetype": "application/julia",
   "name": "julia",
   "version": "1.6.0"
  }
 },
 "nbformat": 4,
 "nbformat_minor": 2
}
